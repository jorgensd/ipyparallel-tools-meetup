{
 "cells": [
  {
   "cell_type": "markdown",
   "id": "b8cc5b46-8928-43aa-9f74-7541fab4956f",
   "metadata": {
    "tags": []
   },
   "source": [
    "We create and start an IPython parallel cluster"
   ]
  },
  {
   "cell_type": "code",
   "execution_count": 5,
   "id": "c7085f0c-2cba-4b53-b69b-7d189bc75908",
   "metadata": {
    "tags": []
   },
   "outputs": [
    {
     "name": "stdout",
     "output_type": "stream",
     "text": [
      "Starting 4 engines with <class 'ipyparallel.cluster.launcher.LocalEngineSetLauncher'>\n"
     ]
    }
   ],
   "source": [
    "import ipyparallel as ipp\n",
    "cluster = ipp.Cluster(n=4)\n",
    "rc = cluster.start_cluster_sync()"
   ]
  },
  {
   "cell_type": "markdown",
   "id": "ae3b0475-50d8-4d08-95a0-d3421d8d086d",
   "metadata": {},
   "source": [
    "What does it mean starting a cluster?"
   ]
  },
  {
   "cell_type": "code",
   "execution_count": 6,
   "id": "a5144ab0-c386-494d-a729-26e4002f0220",
   "metadata": {
    "tags": []
   },
   "outputs": [
    {
     "data": {
      "text/plain": [
       "['engine set']"
      ]
     },
     "execution_count": 6,
     "metadata": {},
     "output_type": "execute_result"
    }
   ],
   "source": [
    "cluster.engine_set.args"
   ]
  },
  {
   "cell_type": "code",
   "execution_count": null,
   "id": "8d45818a-ab30-48a0-adec-f4ca1b075b56",
   "metadata": {},
   "outputs": [],
   "source": []
  }
 ],
 "metadata": {
  "kernelspec": {
   "display_name": "Python 3 (ipykernel)",
   "language": "python",
   "name": "python3"
  },
  "language_info": {
   "codemirror_mode": {
    "name": "ipython",
    "version": 3
   },
   "file_extension": ".py",
   "mimetype": "text/x-python",
   "name": "python",
   "nbconvert_exporter": "python",
   "pygments_lexer": "ipython3",
   "version": "3.10.8"
  }
 },
 "nbformat": 4,
 "nbformat_minor": 5
}
