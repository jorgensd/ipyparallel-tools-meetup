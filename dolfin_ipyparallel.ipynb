{
 "cells": [
  {
   "cell_type": "code",
   "execution_count": 1,
   "metadata": {},
   "outputs": [
    {
     "name": "stdout",
     "output_type": "stream",
     "text": [
      "Starting 1 engines with <class 'ipyparallel.cluster.launcher.MPIEngineSetLauncher'>\n"
     ]
    },
    {
     "data": {
      "application/vnd.jupyter.widget-view+json": {
       "model_id": "179f48ae831d43568bda6057e16107d3",
       "version_major": 2,
       "version_minor": 0
      },
      "text/plain": [
       "  0%|          | 0/1 [00:00<?, ?engine/s]"
      ]
     },
     "metadata": {},
     "output_type": "display_data"
    }
   ],
   "source": [
    "import ipyparallel as ipp\n",
    "cluster = ipp.Cluster(n=1, engines=\"mpi\")\n",
    "rc = cluster.start_and_connect_sync(activate=True)"
   ]
  },
  {
   "cell_type": "code",
   "execution_count": 2,
   "metadata": {},
   "outputs": [],
   "source": [
    "def apply_imports(cluster):\n",
    "    with cluster[:].sync_imports():\n",
    "        import dolfinx\n",
    "        from mpi4py import MPI\n",
    "        import time\n",
    "        import ufl\n",
    "        import numpy"
   ]
  },
  {
   "cell_type": "code",
   "execution_count": 3,
   "metadata": {},
   "outputs": [],
   "source": [
    "def solve_poisson(N):\n",
    "    MPI.COMM_WORLD.Barrier()\n",
    "    start = time.perf_counter()\n",
    "    mesh = dolfinx.mesh.create_unit_square(MPI.COMM_WORLD, N, N)\n",
    "    V = dolfinx.fem.FunctionSpace(mesh, (\"Lagrange\", 1))\n",
    "    u = ufl.TrialFunction(V)\n",
    "    v = ufl.TestFunction(V)\n",
    "    a = ufl.inner(ufl.grad(u), ufl.grad(v)) * ufl.dx\n",
    "    x = ufl.SpatialCoordinate(mesh)\n",
    "    f = ufl.cos(2*ufl.pi*x[0])\n",
    "    L = ufl.inner(f, v) * ufl.dx\n",
    "    mesh.topology.create_connectivity(mesh.topology.dim-1, mesh.topology.dim)\n",
    "    bndry_facets = dolfinx.mesh.exterior_facet_indices(mesh.topology)\n",
    "    bndry_dofs = dolfinx.fem.locate_dofs_topological(\n",
    "        V, mesh.topology.dim-1, bndry_facets)\n",
    "    bc = [dolfinx.fem.dirichletbc(numpy.float64(0), bndry_dofs, V)]\n",
    "    petsc_options = {\"ksp_type\": \"cg\",\n",
    "                     \"pc_type\": \"hypre\",\n",
    "                     \"pc_hypre_type\": \"boomeramg\",\n",
    "                     \"ksp_rtol\": 1.0e-8,\n",
    "                     \"pc_hypre_boomeramg_strong_threshold\": 0.7,\n",
    "                     \"pc_hypre_boomeramg_agg_nl\": 4,\n",
    "                     \"pc_hypre_boomeramg_agg_num_paths\": 2}\n",
    "    end = time.perf_counter()\n",
    "\n",
    "    problem = dolfinx.fem.petsc.LinearProblem(\n",
    "        a, L, bc, petsc_options=petsc_options)\n",
    "    uh = problem.solve()\n",
    "\n",
    "    local_cntr = dolfinx.fem.assemble_scalar(dolfinx.fem.form(uh*uh*ufl.dx))\n",
    "    global_cntr = mesh.comm.reduce(local_cntr, op=MPI.SUM, root=0)\n",
    "    it = problem.solver.getIterationNumber()\n",
    "    if mesh.comm.rank == 0:\n",
    "        print(\n",
    "            f\"Num processes: {mesh.comm.size} Num dofs: {V.dofmap.index_map.size_global} Num iterations: {it} int u^2: {global_cntr}\")\n",
    "    return end-start"
   ]
  },
  {
   "cell_type": "code",
   "execution_count": 4,
   "metadata": {},
   "outputs": [
    {
     "name": "stdout",
     "output_type": "stream",
     "text": [
      "importing dolfinx on engine(s)\n",
      "importing MPI from mpi4py on engine(s)\n",
      "importing time on engine(s)\n",
      "importing ufl on engine(s)\n",
      "importing numpy on engine(s)\n"
     ]
    }
   ],
   "source": [
    "apply_imports(rc)"
   ]
  },
  {
   "cell_type": "code",
   "execution_count": 5,
   "metadata": {},
   "outputs": [
    {
     "name": "stdout",
     "output_type": "stream",
     "text": [
      "['Num processes: 1 Num dofs: 90601 Num iterations: 9 int u^2: 0.00021415468086530374\\n'] [0.26130779100003565]\n",
      "Stopping engine(s): 1681717653\n"
     ]
    },
    {
     "name": "stderr",
     "output_type": "stream",
     "text": [
      "INFO:ipyparallel.cluster.cluster.1681717652-1kyn:Stopping engine(s): 1681717653\n"
     ]
    },
    {
     "name": "stdout",
     "output_type": "stream",
     "text": [
      "mpiexec error output:\n",
      "===================================================================================\n",
      "=   BAD TERMINATION OF ONE OF YOUR APPLICATION PROCESSES\n",
      "=   PID 32803 RUNNING AT dokken-XPS-9320\n",
      "=   EXIT CODE: 139\n",
      "=   CLEANING UP REMAINING PROCESSES\n",
      "=   YOU CAN IGNORE THE BELOW CLEANUP MESSAGES\n",
      "===================================================================================\n",
      "YOUR APPLICATION TERMINATED WITH THE EXIT STRING: Segmentation fault (signal 11)\n",
      "\n"
     ]
    },
    {
     "name": "stderr",
     "output_type": "stream",
     "text": [
      "WARNING:ipyparallel.cluster.cluster.1681717652-1kyn:mpiexec error output:\n",
      "===================================================================================\n",
      "=   BAD TERMINATION OF ONE OF YOUR APPLICATION PROCESSES\n",
      "=   PID 32803 RUNNING AT dokken-XPS-9320\n",
      "=   EXIT CODE: 139\n",
      "=   CLEANING UP REMAINING PROCESSES\n",
      "=   YOU CAN IGNORE THE BELOW CLEANUP MESSAGES\n",
      "===================================================================================\n",
      "YOUR APPLICATION TERMINATED WITH THE EXIT STRING: Segmentation fault (signal 11)\n",
      "\n"
     ]
    },
    {
     "name": "stdout",
     "output_type": "stream",
     "text": [
      "engine set stopped 1681717653: {'exit_code': 139, 'pid': 32798, 'identifier': 'ipengine-1681717652-1kyn-1681717653-32659'}\n"
     ]
    },
    {
     "name": "stderr",
     "output_type": "stream",
     "text": [
      "WARNING:ipyparallel.cluster.cluster.1681717652-1kyn:engine set stopped 1681717653: {'exit_code': 139, 'pid': 32798, 'identifier': 'ipengine-1681717652-1kyn-1681717653-32659'}\n"
     ]
    }
   ],
   "source": [
    "result_serial = rc[:].apply_async(solve_poisson, 300)\n",
    "result_serial.wait()\n",
    "print(result_serial.stdout, result_serial.get())\n",
    "await cluster.stop_engines()"
   ]
  },
  {
   "cell_type": "code",
   "execution_count": 6,
   "metadata": {},
   "outputs": [
    {
     "name": "stdout",
     "output_type": "stream",
     "text": [
      "Starting 1 engines with <class 'ipyparallel.cluster.launcher.MPIEngineSetLauncher'>\n"
     ]
    },
    {
     "name": "stderr",
     "output_type": "stream",
     "text": [
      "INFO:ipyparallel.cluster.cluster.1681717660-r6bx:Starting 1 engines with <class 'ipyparallel.cluster.launcher.MPIEngineSetLauncher'>\n"
     ]
    },
    {
     "data": {
      "application/vnd.jupyter.widget-view+json": {
       "model_id": "454b6aa2f40746fc96ce790b28320db2",
       "version_major": 2,
       "version_minor": 0
      },
      "text/plain": [
       "  0%|          | 0/1 [00:00<?, ?engine/s]"
      ]
     },
     "metadata": {},
     "output_type": "display_data"
    },
    {
     "name": "stdout",
     "output_type": "stream",
     "text": [
      "importing dolfinx on engine(s)\n",
      "importing MPI from mpi4py on engine(s)\n",
      "importing time on engine(s)\n",
      "importing ufl on engine(s)\n",
      "importing numpy on engine(s)\n",
      "8.786691434000204 ['Num processes: 1 Num dofs: 2253001 Num iterations: 9 int u^2: 0.00021417071013195437\\n']\n",
      "Stopping engine(s): 1681717661\n"
     ]
    },
    {
     "name": "stderr",
     "output_type": "stream",
     "text": [
      "INFO:ipyparallel.cluster.cluster.1681717660-r6bx:Stopping engine(s): 1681717661\n"
     ]
    },
    {
     "name": "stdout",
     "output_type": "stream",
     "text": [
      "mpiexec error output:\n",
      "===================================================================================\n",
      "=   BAD TERMINATION OF ONE OF YOUR APPLICATION PROCESSES\n",
      "=   PID 33007 RUNNING AT dokken-XPS-9320\n",
      "=   EXIT CODE: 139\n",
      "=   CLEANING UP REMAINING PROCESSES\n",
      "=   YOU CAN IGNORE THE BELOW CLEANUP MESSAGES\n",
      "===================================================================================\n",
      "YOUR APPLICATION TERMINATED WITH THE EXIT STRING: Segmentation fault (signal 11)\n",
      "\n"
     ]
    },
    {
     "name": "stderr",
     "output_type": "stream",
     "text": [
      "WARNING:ipyparallel.cluster.cluster.1681717660-r6bx:mpiexec error output:\n",
      "===================================================================================\n",
      "=   BAD TERMINATION OF ONE OF YOUR APPLICATION PROCESSES\n",
      "=   PID 33007 RUNNING AT dokken-XPS-9320\n",
      "=   EXIT CODE: 139\n",
      "=   CLEANING UP REMAINING PROCESSES\n",
      "=   YOU CAN IGNORE THE BELOW CLEANUP MESSAGES\n",
      "===================================================================================\n",
      "YOUR APPLICATION TERMINATED WITH THE EXIT STRING: Segmentation fault (signal 11)\n",
      "\n"
     ]
    },
    {
     "name": "stdout",
     "output_type": "stream",
     "text": [
      "engine set stopped 1681717661: {'exit_code': 139, 'pid': 33002, 'identifier': 'ipengine-1681717660-r6bx-1681717661-32659'}\n"
     ]
    },
    {
     "name": "stderr",
     "output_type": "stream",
     "text": [
      "WARNING:ipyparallel.cluster.cluster.1681717660-r6bx:engine set stopped 1681717661: {'exit_code': 139, 'pid': 33002, 'identifier': 'ipengine-1681717660-r6bx-1681717661-32659'}\n"
     ]
    },
    {
     "name": "stdout",
     "output_type": "stream",
     "text": [
      "Starting 2 engines with <class 'ipyparallel.cluster.launcher.MPIEngineSetLauncher'>\n"
     ]
    },
    {
     "name": "stderr",
     "output_type": "stream",
     "text": [
      "INFO:ipyparallel.cluster.cluster.1681717681-kb3a:Starting 2 engines with <class 'ipyparallel.cluster.launcher.MPIEngineSetLauncher'>\n"
     ]
    },
    {
     "data": {
      "application/vnd.jupyter.widget-view+json": {
       "model_id": "de034cb490d843b0a7b57bb66c61640f",
       "version_major": 2,
       "version_minor": 0
      },
      "text/plain": [
       "  0%|          | 0/2 [00:00<?, ?engine/s]"
      ]
     },
     "metadata": {},
     "output_type": "display_data"
    },
    {
     "name": "stdout",
     "output_type": "stream",
     "text": [
      "importing dolfinx on engine(s)\n",
      "importing MPI from mpi4py on engine(s)\n",
      "importing time on engine(s)\n",
      "importing ufl on engine(s)\n",
      "importing numpy on engine(s)\n",
      "8.182736783500104 ['Num processes: 2 Num dofs: 2253001 Num iterations: 18 int u^2: 0.0002141707106930596\\n', '']\n",
      "Stopping engine(s): 1681717682\n"
     ]
    },
    {
     "name": "stderr",
     "output_type": "stream",
     "text": [
      "INFO:ipyparallel.cluster.cluster.1681717681-kb3a:Stopping engine(s): 1681717682\n"
     ]
    },
    {
     "name": "stdout",
     "output_type": "stream",
     "text": [
      "mpiexec error output:\n",
      "===================================================================================\n",
      "=   BAD TERMINATION OF ONE OF YOUR APPLICATION PROCESSES\n",
      "=   PID 33196 RUNNING AT dokken-XPS-9320\n",
      "=   EXIT CODE: 139\n",
      "=   CLEANING UP REMAINING PROCESSES\n",
      "=   YOU CAN IGNORE THE BELOW CLEANUP MESSAGES\n",
      "===================================================================================\n",
      "YOUR APPLICATION TERMINATED WITH THE EXIT STRING: Segmentation fault (signal 11)\n",
      "\n"
     ]
    },
    {
     "name": "stderr",
     "output_type": "stream",
     "text": [
      "WARNING:ipyparallel.cluster.cluster.1681717681-kb3a:mpiexec error output:\n",
      "===================================================================================\n",
      "=   BAD TERMINATION OF ONE OF YOUR APPLICATION PROCESSES\n",
      "=   PID 33196 RUNNING AT dokken-XPS-9320\n",
      "=   EXIT CODE: 139\n",
      "=   CLEANING UP REMAINING PROCESSES\n",
      "=   YOU CAN IGNORE THE BELOW CLEANUP MESSAGES\n",
      "===================================================================================\n",
      "YOUR APPLICATION TERMINATED WITH THE EXIT STRING: Segmentation fault (signal 11)\n",
      "\n"
     ]
    },
    {
     "name": "stdout",
     "output_type": "stream",
     "text": [
      "engine set stopped 1681717682: {'exit_code': 139, 'pid': 33190, 'identifier': 'ipengine-1681717681-kb3a-1681717682-32659'}\n"
     ]
    },
    {
     "name": "stderr",
     "output_type": "stream",
     "text": [
      "WARNING:ipyparallel.cluster.cluster.1681717681-kb3a:engine set stopped 1681717682: {'exit_code': 139, 'pid': 33190, 'identifier': 'ipengine-1681717681-kb3a-1681717682-32659'}\n"
     ]
    },
    {
     "name": "stdout",
     "output_type": "stream",
     "text": [
      "Starting 4 engines with <class 'ipyparallel.cluster.launcher.MPIEngineSetLauncher'>\n"
     ]
    },
    {
     "name": "stderr",
     "output_type": "stream",
     "text": [
      "INFO:ipyparallel.cluster.cluster.1681717700-l3j5:Starting 4 engines with <class 'ipyparallel.cluster.launcher.MPIEngineSetLauncher'>\n"
     ]
    },
    {
     "data": {
      "application/vnd.jupyter.widget-view+json": {
       "model_id": "75603213b05c4be497ca5f8a2ad88b10",
       "version_major": 2,
       "version_minor": 0
      },
      "text/plain": [
       "  0%|          | 0/4 [00:00<?, ?engine/s]"
      ]
     },
     "metadata": {},
     "output_type": "display_data"
    },
    {
     "name": "stdout",
     "output_type": "stream",
     "text": [
      "importing dolfinx on engine(s)\n",
      "importing MPI from mpi4py on engine(s)\n",
      "importing time on engine(s)\n",
      "importing ufl on engine(s)\n",
      "importing numpy on engine(s)\n",
      "7.976862430500205 ['Num processes: 4 Num dofs: 2253001 Num iterations: 19 int u^2: 0.0002141707102002453\\n', '', '', '']\n",
      "Stopping engine(s): 1681717701\n"
     ]
    },
    {
     "name": "stderr",
     "output_type": "stream",
     "text": [
      "INFO:ipyparallel.cluster.cluster.1681717700-l3j5:Stopping engine(s): 1681717701\n"
     ]
    },
    {
     "name": "stdout",
     "output_type": "stream",
     "text": [
      "mpiexec error output:\n",
      "===================================================================================\n",
      "=   BAD TERMINATION OF ONE OF YOUR APPLICATION PROCESSES\n",
      "=   PID 33470 RUNNING AT dokken-XPS-9320\n",
      "=   EXIT CODE: 139\n",
      "=   CLEANING UP REMAINING PROCESSES\n",
      "=   YOU CAN IGNORE THE BELOW CLEANUP MESSAGES\n",
      "===================================================================================\n",
      "YOUR APPLICATION TERMINATED WITH THE EXIT STRING: Segmentation fault (signal 11)\n",
      "\n"
     ]
    },
    {
     "name": "stderr",
     "output_type": "stream",
     "text": [
      "WARNING:ipyparallel.cluster.cluster.1681717700-l3j5:mpiexec error output:\n",
      "===================================================================================\n",
      "=   BAD TERMINATION OF ONE OF YOUR APPLICATION PROCESSES\n",
      "=   PID 33470 RUNNING AT dokken-XPS-9320\n",
      "=   EXIT CODE: 139\n",
      "=   CLEANING UP REMAINING PROCESSES\n",
      "=   YOU CAN IGNORE THE BELOW CLEANUP MESSAGES\n",
      "===================================================================================\n",
      "YOUR APPLICATION TERMINATED WITH THE EXIT STRING: Segmentation fault (signal 11)\n",
      "\n"
     ]
    },
    {
     "name": "stdout",
     "output_type": "stream",
     "text": [
      "engine set stopped 1681717701: {'exit_code': 139, 'pid': 33465, 'identifier': 'ipengine-1681717700-l3j5-1681717701-32659'}\n"
     ]
    },
    {
     "name": "stderr",
     "output_type": "stream",
     "text": [
      "WARNING:ipyparallel.cluster.cluster.1681717700-l3j5:engine set stopped 1681717701: {'exit_code': 139, 'pid': 33465, 'identifier': 'ipengine-1681717700-l3j5-1681717701-32659'}\n"
     ]
    },
    {
     "name": "stdout",
     "output_type": "stream",
     "text": [
      "Starting 8 engines with <class 'ipyparallel.cluster.launcher.MPIEngineSetLauncher'>\n"
     ]
    },
    {
     "name": "stderr",
     "output_type": "stream",
     "text": [
      "INFO:ipyparallel.cluster.cluster.1681717723-idor:Starting 8 engines with <class 'ipyparallel.cluster.launcher.MPIEngineSetLauncher'>\n"
     ]
    },
    {
     "data": {
      "application/vnd.jupyter.widget-view+json": {
       "model_id": "067caa13711140838f7d44912177a41b",
       "version_major": 2,
       "version_minor": 0
      },
      "text/plain": [
       "  0%|          | 0/8 [00:00<?, ?engine/s]"
      ]
     },
     "metadata": {},
     "output_type": "display_data"
    },
    {
     "name": "stdout",
     "output_type": "stream",
     "text": [
      "importing dolfinx on engine(s)\n",
      "importing MPI from mpi4py on engine(s)\n",
      "importing time on engine(s)\n",
      "importing ufl on engine(s)\n",
      "importing numpy on engine(s)\n",
      "7.280891330500026 ['Num processes: 8 Num dofs: 2253001 Num iterations: 19 int u^2: 0.00021417071080730426\\n', '', '', '', '', '', '', '']\n",
      "Stopping engine(s): 1681717724\n"
     ]
    },
    {
     "name": "stderr",
     "output_type": "stream",
     "text": [
      "INFO:ipyparallel.cluster.cluster.1681717723-idor:Stopping engine(s): 1681717724\n"
     ]
    },
    {
     "name": "stdout",
     "output_type": "stream",
     "text": [
      "Failed to remove /home/dokken/.ipython/profile_default/log/ipengine-1681717723-idor-1681717724-32659.log: [Errno 2] No such file or directory: '/home/dokken/.ipython/profile_default/log/ipengine-1681717723-idor-1681717724-32659.log'\n"
     ]
    },
    {
     "name": "stderr",
     "output_type": "stream",
     "text": [
      "ERROR:ipyparallel.cluster.cluster.1681717723-idor:Failed to remove /home/dokken/.ipython/profile_default/log/ipengine-1681717723-idor-1681717724-32659.log: [Errno 2] No such file or directory: '/home/dokken/.ipython/profile_default/log/ipengine-1681717723-idor-1681717724-32659.log'\n"
     ]
    },
    {
     "name": "stdout",
     "output_type": "stream",
     "text": [
      "mpiexec error output:\n",
      "===================================================================================\n",
      "=   BAD TERMINATION OF ONE OF YOUR APPLICATION PROCESSES\n",
      "=   PID 33810 RUNNING AT dokken-XPS-9320\n",
      "=   EXIT CODE: 9\n",
      "=   CLEANING UP REMAINING PROCESSES\n",
      "=   YOU CAN IGNORE THE BELOW CLEANUP MESSAGES\n",
      "===================================================================================\n",
      "YOUR APPLICATION TERMINATED WITH THE EXIT STRING: Segmentation fault (signal 11)\n",
      "\n"
     ]
    },
    {
     "name": "stderr",
     "output_type": "stream",
     "text": [
      "WARNING:ipyparallel.cluster.cluster.1681717723-idor:mpiexec error output:\n",
      "===================================================================================\n",
      "=   BAD TERMINATION OF ONE OF YOUR APPLICATION PROCESSES\n",
      "=   PID 33810 RUNNING AT dokken-XPS-9320\n",
      "=   EXIT CODE: 9\n",
      "=   CLEANING UP REMAINING PROCESSES\n",
      "=   YOU CAN IGNORE THE BELOW CLEANUP MESSAGES\n",
      "===================================================================================\n",
      "YOUR APPLICATION TERMINATED WITH THE EXIT STRING: Segmentation fault (signal 11)\n",
      "\n"
     ]
    },
    {
     "name": "stdout",
     "output_type": "stream",
     "text": [
      "engine set stopped 1681717724: {'exit_code': 139, 'pid': 33807, 'identifier': 'ipengine-1681717723-idor-1681717724-32659'}\n"
     ]
    },
    {
     "name": "stderr",
     "output_type": "stream",
     "text": [
      "WARNING:ipyparallel.cluster.cluster.1681717723-idor:engine set stopped 1681717724: {'exit_code': 139, 'pid': 33807, 'identifier': 'ipengine-1681717723-idor-1681717724-32659'}\n"
     ]
    }
   ],
   "source": [
    "import numpy\n",
    "mpi_processes = [1, 2, 4, 8]\n",
    "runtimes = numpy.zeros(len(mpi_processes))\n",
    "for i, processes in enumerate(mpi_processes):\n",
    "    cluster = ipp.Cluster(n=processes, engines=\"mpi\")\n",
    "    rc = cluster.start_and_connect_sync(activate=True)\n",
    "    apply_imports(rc)\n",
    "    process_runtimes = rc[:].apply_async(solve_poisson, 300)\n",
    "    process_runtimes.wait()\n",
    "    runtimes[i] = numpy.sum(process_runtimes.get())/len(process_runtimes.get())\n",
    "    print(runtimes[i], process_runtimes.stdout)\n",
    "    await cluster.stop_engines()"
   ]
  },
  {
   "cell_type": "code",
   "execution_count": 7,
   "metadata": {},
   "outputs": [
    {
     "name": "stdout",
     "output_type": "stream",
     "text": [
      "Average runtimes\n",
      "1 8.786691434000204\n",
      "2 8.182736783500104\n",
      "4 7.976862430500205\n",
      "8 7.280891330500026\n"
     ]
    },
    {
     "data": {
      "image/png": "[encoded data removed]",
      "text/plain": [
       "<Figure size 640x480 with 1 Axes>"
      ]
     },
     "metadata": {},
     "output_type": "display_data"
    }
   ],
   "source": [
    "import matplotlib.pyplot as plt\n",
    "print(\"Average runtimes\")\n",
    "for num_processes, runtime in zip(mpi_processes, runtimes):\n",
    "    print(num_processes, runtime)\n",
    "plt.plot(mpi_processes, runtimes)\n",
    "plt.xlabel(\"Number of processes\")\n",
    "plt.ylabel(\"Runtime\")\n",
    "plt.grid()"
   ]
  },
  {
   "cell_type": "code",
   "execution_count": null,
   "metadata": {},
   "outputs": [],
   "source": []
  }
 ],
 "metadata": {
  "kernelspec": {
   "display_name": "Python 3 (ipykernel)",
   "language": "python",
   "name": "python3"
  },
  "language_info": {
   "codemirror_mode": {
    "name": "ipython",
    "version": 3
   },
   "file_extension": ".py",
   "mimetype": "text/x-python",
   "name": "python",
   "nbconvert_exporter": "python",
   "pygments_lexer": "ipython3",
   "version": "3.10.10"
  }
 },
 "nbformat": 4,
 "nbformat_minor": 4
}
