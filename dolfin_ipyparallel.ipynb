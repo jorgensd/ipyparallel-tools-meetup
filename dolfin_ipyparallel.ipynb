{
 "cells": [
  {
   "cell_type": "code",
   "execution_count": 1,
   "metadata": {
    "tags": []
   },
   "outputs": [],
   "source": [
    "def _fix_signal():\n",
    "    \"\"\"Unregister PETSc's problematic signal handling after import\n",
    "\n",
    "    By restoring IPython's default signal handlers\n",
    "    \n",
    "    and also fix duplicate log handlers registered by importing ffcx\n",
    "    \"\"\"\n",
    "    from traitlets.config import Application\n",
    "\n",
    "    Application.instance().init_signal()\n",
    "\n",
    "\n",
    "def apply_imports(rc):\n",
    "    \"\"\"Synchronize imports on both the notebook and all engines\"\"\"\n",
    "    with rc[:].sync_imports():\n",
    "        from mpi4py import MPI\n",
    "        import dolfinx\n",
    "        import time\n",
    "        import ufl\n",
    "        import numpy\n",
    "\n",
    "    rc[:].apply_sync(_fix_signal)\n",
    "    \n",
    "# avoid duplicate logs after importing ffcx:\n",
    "# https://github.com/ipython/ipyparallel/pull/797\n",
    "import logging \n",
    "logging.getLogger(\"ipyparallel.cluster\").propagate = False"
   ]
  },
  {
   "cell_type": "code",
   "execution_count": 2,
   "metadata": {
    "tags": []
   },
   "outputs": [],
   "source": [
    "def solve_poisson(N):\n",
    "    \"\"\"Solves the poisson equation on an NxN unit square.\n",
    "\n",
    "    Returns the time taken to compute the solution\n",
    "    \"\"\"\n",
    "    MPI.COMM_WORLD.Barrier()\n",
    "    start = time.perf_counter()\n",
    "    mesh = dolfinx.mesh.create_unit_square(MPI.COMM_WORLD, N, N)\n",
    "    V = dolfinx.fem.FunctionSpace(mesh, (\"Lagrange\", 1))\n",
    "    u = ufl.TrialFunction(V)\n",
    "    v = ufl.TestFunction(V)\n",
    "    a = ufl.inner(ufl.grad(u), ufl.grad(v)) * ufl.dx\n",
    "    x = ufl.SpatialCoordinate(mesh)\n",
    "    f = ufl.cos(2 * ufl.pi * x[0])\n",
    "    L = ufl.inner(f, v) * ufl.dx\n",
    "    mesh.topology.create_connectivity(mesh.topology.dim - 1, mesh.topology.dim)\n",
    "    bndry_facets = dolfinx.mesh.exterior_facet_indices(mesh.topology)\n",
    "    bndry_dofs = dolfinx.fem.locate_dofs_topological(\n",
    "        V, mesh.topology.dim - 1, bndry_facets\n",
    "    )\n",
    "    bc = [dolfinx.fem.dirichletbc(numpy.float64(0), bndry_dofs, V)]\n",
    "    petsc_options = {\n",
    "        \"ksp_type\": \"cg\",\n",
    "        \"pc_type\": \"hypre\",\n",
    "        \"pc_hypre_type\": \"boomeramg\",\n",
    "        \"ksp_rtol\": 1.0e-8,\n",
    "        \"pc_hypre_boomeramg_strong_threshold\": 0.7,\n",
    "        \"pc_hypre_boomeramg_agg_nl\": 4,\n",
    "        \"pc_hypre_boomeramg_agg_num_paths\": 2,\n",
    "    }\n",
    "\n",
    "    problem = dolfinx.fem.petsc.LinearProblem(a, L, bc, petsc_options=petsc_options)\n",
    "    uh = problem.solve()\n",
    "    end = time.perf_counter()\n",
    "\n",
    "    local_cntr = dolfinx.fem.assemble_scalar(dolfinx.fem.form(uh * uh * ufl.dx))\n",
    "    global_cntr = mesh.comm.reduce(local_cntr, op=MPI.SUM, root=0)\n",
    "    it = problem.solver.getIterationNumber()\n",
    "    if mesh.comm.rank == 0:\n",
    "        print(\n",
    "            f\"Num processes: {mesh.comm.size} Num dofs: {V.dofmap.index_map.size_global} Num iterations: {it} int u^2: {global_cntr}\"\n",
    "        )\n",
    "    return end - start"
   ]
  },
  {
   "cell_type": "code",
   "execution_count": 3,
   "metadata": {
    "tags": []
   },
   "outputs": [
    {
     "data": {
      "application/vnd.jupyter.widget-view+json": {
       "model_id": "c2cac16973bb45bbabcb515c733b175c",
       "version_major": 2,
       "version_minor": 0
      },
      "text/plain": [
       "  0%|          | 0/1 [00:00<?, ?engine/s]"
      ]
     },
     "metadata": {},
     "output_type": "display_data"
    },
    {
     "name": "stdout",
     "output_type": "stream",
     "text": [
      "importing MPI from mpi4py on engine(s)\n",
      "importing dolfinx on engine(s)\n",
      "importing time on engine(s)\n",
      "importing ufl on engine(s)\n",
      "importing numpy on engine(s)\n"
     ]
    },
    {
     "data": {
      "application/vnd.jupyter.widget-view+json": {
       "model_id": "08caad11d74743f687f36e868aedf837",
       "version_major": 2,
       "version_minor": 0
      },
      "text/plain": [
       "solve_poisson:   0%|          | 0/1 [00:00<?, ?tasks/s]"
      ]
     },
     "metadata": {},
     "output_type": "display_data"
    },
    {
     "data": {
      "text/plain": [
       "[stdout:0] Num processes: 1 Num dofs: 90601 Num iterations: 9 int u^2: 0.00021415468086532634\n"
      ]
     },
     "metadata": {},
     "output_type": "display_data"
    }
   ],
   "source": [
    "import ipyparallel as ipp\n",
    "\n",
    "with ipp.Cluster(n=1, engines=\"mpi\", log_level=30) as rc:\n",
    "    apply_imports(rc)\n",
    "    result_serial = rc[:].apply_async(solve_poisson, 300)\n",
    "    with result_serial.stream_output():\n",
    "        result_serial.wait_interactive()"
   ]
  },
  {
   "cell_type": "code",
   "execution_count": 4,
   "metadata": {
    "tags": []
   },
   "outputs": [
    {
     "data": {
      "application/vnd.jupyter.widget-view+json": {
       "model_id": "e8510b0a8a4749b0bc9955dc8efd21c1",
       "version_major": 2,
       "version_minor": 0
      },
      "text/plain": [
       "overall progress:   0%|          | 0/4 [00:00<?, ?it/s]"
      ]
     },
     "metadata": {},
     "output_type": "display_data"
    },
    {
     "data": {
      "application/vnd.jupyter.widget-view+json": {
       "model_id": "7c328fa7a5d94239ba92a2a43b779a76",
       "version_major": 2,
       "version_minor": 0
      },
      "text/plain": [
       "  0%|          | 0/1 [00:00<?, ?engine/s]"
      ]
     },
     "metadata": {},
     "output_type": "display_data"
    },
    {
     "name": "stdout",
     "output_type": "stream",
     "text": [
      "importing MPI from mpi4py on engine(s)\n",
      "importing dolfinx on engine(s)\n",
      "importing time on engine(s)\n",
      "importing ufl on engine(s)\n",
      "importing numpy on engine(s)\n"
     ]
    },
    {
     "data": {
      "application/vnd.jupyter.widget-view+json": {
       "model_id": "9e4ef71eb3fc456fb3fac6a266b8d72c",
       "version_major": 2,
       "version_minor": 0
      },
      "text/plain": [
       "solve_poisson:   0%|          | 0/1 [00:00<?, ?tasks/s]"
      ]
     },
     "metadata": {},
     "output_type": "display_data"
    },
    {
     "data": {
      "text/plain": [
       "[stdout:0] Num processes: 1 Num dofs: 361201 Num iterations: 9 int u^2: 0.00021416720338638073\n"
      ]
     },
     "metadata": {},
     "output_type": "display_data"
    },
    {
     "data": {
      "application/vnd.jupyter.widget-view+json": {
       "model_id": "455c70e5038345d89c9900be3dc52b0f",
       "version_major": 2,
       "version_minor": 0
      },
      "text/plain": [
       "  0%|          | 0/2 [00:00<?, ?engine/s]"
      ]
     },
     "metadata": {},
     "output_type": "display_data"
    },
    {
     "name": "stdout",
     "output_type": "stream",
     "text": [
      "importing MPI from mpi4py on engine(s)\n",
      "importing dolfinx on engine(s)\n",
      "importing time on engine(s)\n",
      "importing ufl on engine(s)\n",
      "importing numpy on engine(s)\n"
     ]
    },
    {
     "data": {
      "application/vnd.jupyter.widget-view+json": {
       "model_id": "e55b7457570048d4a6900fb47587014d",
       "version_major": 2,
       "version_minor": 0
      },
      "text/plain": [
       "solve_poisson:   0%|          | 0/2 [00:00<?, ?tasks/s]"
      ]
     },
     "metadata": {},
     "output_type": "display_data"
    },
    {
     "data": {
      "text/plain": [
       "[stdout:0] Num processes: 2 Num dofs: 361201 Num iterations: 16 int u^2: 0.00021416720356226394\n"
      ]
     },
     "metadata": {},
     "output_type": "display_data"
    },
    {
     "data": {
      "application/vnd.jupyter.widget-view+json": {
       "model_id": "6218726486d1477c8989d9f537889cdd",
       "version_major": 2,
       "version_minor": 0
      },
      "text/plain": [
       "  0%|          | 0/4 [00:00<?, ?engine/s]"
      ]
     },
     "metadata": {},
     "output_type": "display_data"
    },
    {
     "name": "stdout",
     "output_type": "stream",
     "text": [
      "importing MPI from mpi4py on engine(s)\n",
      "importing dolfinx on engine(s)\n",
      "importing time on engine(s)\n",
      "importing ufl on engine(s)\n",
      "importing numpy on engine(s)\n"
     ]
    },
    {
     "data": {
      "application/vnd.jupyter.widget-view+json": {
       "model_id": "a9dd48ef1ed24645b94535a748254013",
       "version_major": 2,
       "version_minor": 0
      },
      "text/plain": [
       "solve_poisson:   0%|          | 0/4 [00:00<?, ?tasks/s]"
      ]
     },
     "metadata": {},
     "output_type": "display_data"
    },
    {
     "data": {
      "text/plain": [
       "[stdout:0] Num processes: 4 Num dofs: 361201 Num iterations: 16 int u^2: 0.00021416720357179264\n"
      ]
     },
     "metadata": {},
     "output_type": "display_data"
    },
    {
     "data": {
      "application/vnd.jupyter.widget-view+json": {
       "model_id": "ed4127e299f1438a91a6e16e188f7a10",
       "version_major": 2,
       "version_minor": 0
      },
      "text/plain": [
       "  0%|          | 0/8 [00:00<?, ?engine/s]"
      ]
     },
     "metadata": {},
     "output_type": "display_data"
    },
    {
     "name": "stdout",
     "output_type": "stream",
     "text": [
      "importing MPI from mpi4py on engine(s)\n",
      "importing dolfinx on engine(s)\n",
      "importing time on engine(s)\n",
      "importing ufl on engine(s)\n",
      "importing numpy on engine(s)\n"
     ]
    },
    {
     "data": {
      "application/vnd.jupyter.widget-view+json": {
       "model_id": "955fb9e7c96d4f3397341d24fc5283c3",
       "version_major": 2,
       "version_minor": 0
      },
      "text/plain": [
       "solve_poisson:   0%|          | 0/8 [00:00<?, ?tasks/s]"
      ]
     },
     "metadata": {},
     "output_type": "display_data"
    },
    {
     "data": {
      "text/plain": [
       "[stdout:0] Num processes: 8 Num dofs: 361201 Num iterations: 17 int u^2: 0.0002141672031712013\n"
      ]
     },
     "metadata": {},
     "output_type": "display_data"
    }
   ],
   "source": [
    "import numpy\n",
    "\n",
    "from tqdm.notebook import tqdm\n",
    "\n",
    "mpi_processes = [1, 2, 4, 8]\n",
    "\n",
    "measurements = []\n",
    "\n",
    "for i, processes in enumerate(tqdm(mpi_processes, desc=\"overall progress\")):\n",
    "    cluster = ipp.Cluster(n=processes, engines=\"mpi\", log_level=30)\n",
    "    with cluster as rc:\n",
    "        apply_imports(rc)\n",
    "        process_runtimes = rc[:].apply_async(solve_poisson, 600)\n",
    "        with process_runtimes.stream_output():\n",
    "            process_runtimes.wait_interactive()\n",
    "        for t in process_runtimes:\n",
    "            measurements.append({\"t\": t, \"processes\": processes})"
   ]
  },
  {
   "cell_type": "markdown",
   "metadata": {},
   "source": [
    "We can collect our timing measurements to inspect our parallel performance.\n",
    "We have a measurement for every worker, so we can see if there are any outliers going idle or doing extra work."
   ]
  },
  {
   "cell_type": "code",
   "execution_count": 5,
   "metadata": {
    "tags": []
   },
   "outputs": [
    {
     "data": {
      "text/plain": [
       "processes\n",
       "1    1.397290\n",
       "2    1.263056\n",
       "4    1.065009\n",
       "8    0.859183\n",
       "Name: t, dtype: float64"
      ]
     },
     "execution_count": 5,
     "metadata": {},
     "output_type": "execute_result"
    }
   ],
   "source": [
    "import pandas as pd\n",
    "import altair as alt\n",
    "\n",
    "df = pd.DataFrame(measurements)\n",
    "df.groupby(\"processes\").t.mean()"
   ]
  },
  {
   "cell_type": "markdown",
   "metadata": {},
   "source": [
    "We can compute parallel 'speedup' by comparing durations with the n=1 case."
   ]
  },
  {
   "cell_type": "code",
   "execution_count": 6,
   "metadata": {
    "tags": []
   },
   "outputs": [],
   "source": [
    "serial_time = df[df.processes == 1].t[0]\n",
    "df[\"speedup\"] = serial_time / df[\"t\"]"
   ]
  },
  {
   "cell_type": "code",
   "execution_count": 7,
   "metadata": {
    "tags": []
   },
   "outputs": [
    {
     "data": {
      "text/html": [
       "\n",
       "<div id=\"altair-viz-45290e4d6bd741bd90be999dc598225f\"></div>\n",
       "<script type=\"text/javascript\">\n",
       "  var VEGA_DEBUG = (typeof VEGA_DEBUG == \"undefined\") ? {} : VEGA_DEBUG;\n",
       "  (function(spec, embedOpt){\n",
       "    let outputDiv = document.currentScript.previousElementSibling;\n",
       "    if (outputDiv.id !== \"altair-viz-45290e4d6bd741bd90be999dc598225f\") {\n",
       "      outputDiv = document.getElementById(\"altair-viz-45290e4d6bd741bd90be999dc598225f\");\n",
       "    }\n",
       "    const paths = {\n",
       "      \"vega\": \"https://cdn.jsdelivr.net/npm//vega@5?noext\",\n",
       "      \"vega-lib\": \"https://cdn.jsdelivr.net/npm//vega-lib?noext\",\n",
       "      \"vega-lite\": \"https://cdn.jsdelivr.net/npm//vega-lite@4.17.0?noext\",\n",
       "      \"vega-embed\": \"https://cdn.jsdelivr.net/npm//vega-embed@6?noext\",\n",
       "    };\n",
       "\n",
       "    function maybeLoadScript(lib, version) {\n",
       "      var key = `${lib.replace(\"-\", \"\")}_version`;\n",
       "      return (VEGA_DEBUG[key] == version) ?\n",
       "        Promise.resolve(paths[lib]) :\n",
       "        new Promise(function(resolve, reject) {\n",
       "          var s = document.createElement('script');\n",
       "          document.getElementsByTagName(\"head\")[0].appendChild(s);\n",
       "          s.async = true;\n",
       "          s.onload = () => {\n",
       "            VEGA_DEBUG[key] = version;\n",
       "            return resolve(paths[lib]);\n",
       "          };\n",
       "          s.onerror = () => reject(`Error loading script: ${paths[lib]}`);\n",
       "          s.src = paths[lib];\n",
       "        });\n",
       "    }\n",
       "\n",
       "    function showError(err) {\n",
       "      outputDiv.innerHTML = `<div class=\"error\" style=\"color:red;\">${err}</div>`;\n",
       "      throw err;\n",
       "    }\n",
       "\n",
       "    function displayChart(vegaEmbed) {\n",
       "      vegaEmbed(outputDiv, spec, embedOpt)\n",
       "        .catch(err => showError(`Javascript Error: ${err.message}<br>This usually means there's a typo in your chart specification. See the javascript console for the full traceback.`));\n",
       "    }\n",
       "\n",
       "    if(typeof define === \"function\" && define.amd) {\n",
       "      requirejs.config({paths});\n",
       "      require([\"vega-embed\"], displayChart, err => showError(`Error loading script: ${err.message}`));\n",
       "    } else {\n",
       "      maybeLoadScript(\"vega\", \"5\")\n",
       "        .then(() => maybeLoadScript(\"vega-lite\", \"4.17.0\"))\n",
       "        .then(() => maybeLoadScript(\"vega-embed\", \"6\"))\n",
       "        .catch(showError)\n",
       "        .then(() => displayChart(vegaEmbed));\n",
       "    }\n",
       "  })({\"config\": {\"view\": {\"continuousWidth\": 400, \"continuousHeight\": 300}}, \"data\": {\"name\": \"data-06496c46d62f019516eee3d0074b9053\"}, \"mark\": \"point\", \"encoding\": {\"color\": {\"field\": \"speedup\", \"type\": \"quantitative\"}, \"tooltip\": [{\"field\": \"processes\", \"type\": \"quantitative\"}, {\"field\": \"t\", \"type\": \"quantitative\"}, {\"field\": \"speedup\", \"type\": \"quantitative\"}], \"x\": {\"field\": \"processes\", \"type\": \"quantitative\"}, \"y\": {\"field\": \"t\", \"type\": \"quantitative\"}}, \"selection\": {\"selector001\": {\"type\": \"interval\", \"bind\": \"scales\", \"encodings\": [\"x\", \"y\"]}}, \"$schema\": \"https://vega.github.io/schema/vega-lite/v4.17.0.json\", \"datasets\": {\"data-06496c46d62f019516eee3d0074b9053\": [{\"t\": 1.3972900419903453, \"processes\": 1, \"speedup\": 1.0}, {\"t\": 1.2630537500081118, \"processes\": 2, \"speedup\": 1.1062791603139386}, {\"t\": 1.263058209005976, \"processes\": 2, \"speedup\": 1.106275254796063}, {\"t\": 1.0650362499873154, \"processes\": 4, \"speedup\": 1.3119647730365864}, {\"t\": 1.065034541010391, \"processes\": 4, \"speedup\": 1.3119668782429779}, {\"t\": 1.065023667004425, \"processes\": 4, \"speedup\": 1.3119802735656387}, {\"t\": 1.0649404159921687, \"processes\": 4, \"speedup\": 1.312082836755273}, {\"t\": 0.8592461670050398, \"processes\": 8, \"speedup\": 1.626181291981428}, {\"t\": 0.8592354579886887, \"processes\": 8, \"speedup\": 1.6262015597693593}, {\"t\": 0.8592457089980599, \"processes\": 8, \"speedup\": 1.6261821587909733}, {\"t\": 0.8592280829907395, \"processes\": 8, \"speedup\": 1.6262155179178484}, {\"t\": 0.8591866250208113, \"processes\": 8, \"speedup\": 1.626293987009516}, {\"t\": 0.8591888750088401, \"processes\": 8, \"speedup\": 1.626289728176437}, {\"t\": 0.8591859999869484, \"processes\": 8, \"speedup\": 1.6262951700930544}, {\"t\": 0.8589437089976855, \"processes\": 8, \"speedup\": 1.6267539157145285}]}}, {\"mode\": \"vega-lite\"});\n",
       "</script>"
      ],
      "text/plain": [
       "alt.Chart(...)"
      ]
     },
     "execution_count": 7,
     "metadata": {},
     "output_type": "execute_result"
    }
   ],
   "source": [
    "alt.Chart(df).mark_point().encode(\n",
    "    x=\"processes\",\n",
    "    y=\"t\",\n",
    "    color=\"speedup\",\n",
    "    tooltip=[\n",
    "        \"processes\",\n",
    "        \"t\",\n",
    "        \"speedup\",\n",
    "    ],\n",
    ").interactive()"
   ]
  }
 ],
 "metadata": {
  "kernelspec": {
   "display_name": "Python 3 (ipykernel)",
   "language": "python",
   "name": "python3"
  },
  "language_info": {
   "codemirror_mode": {
    "name": "ipython",
    "version": 3
   },
   "file_extension": ".py",
   "mimetype": "text/x-python",
   "name": "python",
   "nbconvert_exporter": "python",
   "pygments_lexer": "ipython3",
   "version": "3.10.10"
  },
  "widgets": {
   "application/vnd.jupyter.widget-state+json": {
    "state": {
     "0060c4ab573b46bea0d8efdf5caed4bc": {
      "model_module": "@jupyter-widgets/controls",
      "model_module_version": "2.0.0",
      "model_name": "FloatProgressModel",
      "state": {
       "bar_style": "success",
       "layout": "IPY_MODEL_bbd739ad5e3c4fd0a7f73bf277d2f6a9",
       "max": 1,
       "style": "IPY_MODEL_205139e9a5b14b899abdcd32c6a0ec4d",
       "value": 1
      }
     },
     "0225751550a24073ac2893d269a0d433": {
      "model_module": "@jupyter-widgets/controls",
      "model_module_version": "2.0.0",
      "model_name": "FloatProgressModel",
      "state": {
       "bar_style": "success",
       "layout": "IPY_MODEL_ac504e98bf7a4f3e874292adef9997cb",
       "max": 8,
       "style": "IPY_MODEL_8eb3bb9456544c49b5650c6b5b01a8c2",
       "value": 8
      }
     },
     "024f54de498145488a900de38ffa1958": {
      "model_module": "@jupyter-widgets/base",
      "model_module_version": "2.0.0",
      "model_name": "LayoutModel",
      "state": {}
     },
     "045085cd985e4cf59fa6fa06f9412b87": {
      "model_module": "@jupyter-widgets/base",
      "model_module_version": "2.0.0",
      "model_name": "LayoutModel",
      "state": {}
     },
     "0525b19b1d18402bb9c705130b3c1050": {
      "model_module": "@jupyter-widgets/controls",
      "model_module_version": "2.0.0",
      "model_name": "HTMLModel",
      "state": {
       "layout": "IPY_MODEL_b3e3fac3d02544f2ba356fee28159cb7",
       "style": "IPY_MODEL_3a8e58ac6f9f4df0a1c4d6d54f41148c",
       "value": "solve_poisson: 100%"
      }
     },
     "08caad11d74743f687f36e868aedf837": {
      "model_module": "@jupyter-widgets/controls",
      "model_module_version": "2.0.0",
      "model_name": "HBoxModel",
      "state": {
       "children": [
        "IPY_MODEL_69ce290291f14d2291228f63260075a1",
        "IPY_MODEL_14074f08d8b349a9b134af1e8a901aa0",
        "IPY_MODEL_1ff213870d1c44bdb80bbfb6b064eef7"
       ],
       "layout": "IPY_MODEL_9e4b306cc76244c98ebb0615581b1558"
      }
     },
     "0cd21ee569b9438cb175b2b587cc7ada": {
      "model_module": "@jupyter-widgets/controls",
      "model_module_version": "2.0.0",
      "model_name": "FloatProgressModel",
      "state": {
       "bar_style": "success",
       "layout": "IPY_MODEL_faa01e33cc374efb814a4873b872cf50",
       "max": 1,
       "style": "IPY_MODEL_47a015438e5d488b9e50455addcae65c",
       "value": 1
      }
     },
     "0f721f78ccc541628aadc2baacb7afc0": {
      "model_module": "@jupyter-widgets/controls",
      "model_module_version": "2.0.0",
      "model_name": "HTMLStyleModel",
      "state": {
       "description_width": "",
       "font_size": null,
       "text_color": null
      }
     },
     "12499858d252465d9697a8067e00df76": {
      "model_module": "@jupyter-widgets/base",
      "model_module_version": "2.0.0",
      "model_name": "LayoutModel",
      "state": {}
     },
     "14074f08d8b349a9b134af1e8a901aa0": {
      "model_module": "@jupyter-widgets/controls",
      "model_module_version": "2.0.0",
      "model_name": "FloatProgressModel",
      "state": {
       "bar_style": "success",
       "layout": "IPY_MODEL_88b758e71c144af3b15c8ce6c1c49cac",
       "max": 1,
       "style": "IPY_MODEL_5e158003a68a4af59ebb0b681d9ba2e9",
       "value": 1
      }
     },
     "151ae59e9428465c89c7b7ebdc55353b": {
      "model_module": "@jupyter-widgets/base",
      "model_module_version": "2.0.0",
      "model_name": "LayoutModel",
      "state": {}
     },
     "195ae3548c6e4e14abf243c9ec6baa2a": {
      "model_module": "@jupyter-widgets/controls",
      "model_module_version": "2.0.0",
      "model_name": "HTMLModel",
      "state": {
       "layout": "IPY_MODEL_12499858d252465d9697a8067e00df76",
       "style": "IPY_MODEL_3799fc64ee4d4d708af92fd7ebed6e62",
       "value": " 4/4 [00:01&lt;00:00,  3.68tasks/s]"
      }
     },
     "1bf1453a2faa405babbbaa93cbf46751": {
      "model_module": "@jupyter-widgets/base",
      "model_module_version": "2.0.0",
      "model_name": "LayoutModel",
      "state": {}
     },
     "1cd220ae3a70476bb0d7be5da2f9afa8": {
      "model_module": "@jupyter-widgets/base",
      "model_module_version": "2.0.0",
      "model_name": "LayoutModel",
      "state": {}
     },
     "1d2997600bb244ac93637f49d6496c87": {
      "model_module": "@jupyter-widgets/controls",
      "model_module_version": "2.0.0",
      "model_name": "HTMLModel",
      "state": {
       "layout": "IPY_MODEL_767f351e9bc94e0db147c4def6839a89",
       "style": "IPY_MODEL_66fb9b5960e04dcdaae85a405f037643",
       "value": " 2/2 [00:01&lt;00:00,  1.25s/engine]"
      }
     },
     "1ded38f5e65e42c194b3ce6385dea8e1": {
      "model_module": "@jupyter-widgets/controls",
      "model_module_version": "2.0.0",
      "model_name": "HTMLModel",
      "state": {
       "layout": "IPY_MODEL_abfc358c18de486485f04ba74ac7640d",
       "style": "IPY_MODEL_74659af66d0e447abb76f001e426e279",
       "value": "100%"
      }
     },
     "1ee58452015b4804b36f3a32bb73cbee": {
      "model_module": "@jupyter-widgets/base",
      "model_module_version": "2.0.0",
      "model_name": "LayoutModel",
      "state": {}
     },
     "1f8be10010a64d21900405a3d0f6c7f5": {
      "model_module": "@jupyter-widgets/controls",
      "model_module_version": "2.0.0",
      "model_name": "FloatProgressModel",
      "state": {
       "bar_style": "success",
       "layout": "IPY_MODEL_3d0333ab617f4020921f62f8902ceefe",
       "max": 1,
       "style": "IPY_MODEL_a3ce1fe312ce465eb1688496ecc8a5fb",
       "value": 1
      }
     },
     "1ff213870d1c44bdb80bbfb6b064eef7": {
      "model_module": "@jupyter-widgets/controls",
      "model_module_version": "2.0.0",
      "model_name": "HTMLModel",
      "state": {
       "layout": "IPY_MODEL_a8ea997b4feb4169bea57e45bca6ab03",
       "style": "IPY_MODEL_3ca74ac129dd41eb83b52de4585aed57",
       "value": " 1/1 [00:00&lt;00:00,  2.81tasks/s]"
      }
     },
     "205139e9a5b14b899abdcd32c6a0ec4d": {
      "model_module": "@jupyter-widgets/controls",
      "model_module_version": "2.0.0",
      "model_name": "ProgressStyleModel",
      "state": {
       "description_width": ""
      }
     },
     "268afb9e307347058300cb22c88fdd3a": {
      "model_module": "@jupyter-widgets/controls",
      "model_module_version": "2.0.0",
      "model_name": "HTMLModel",
      "state": {
       "layout": "IPY_MODEL_cc4116ecbbd848afa0d8405be9a2374e",
       "style": "IPY_MODEL_7491e80b37b54d36a16bfa28d6e7348a",
       "value": "100%"
      }
     },
     "2948873dc02741a8998da98c538eb4cd": {
      "model_module": "@jupyter-widgets/base",
      "model_module_version": "2.0.0",
      "model_name": "LayoutModel",
      "state": {}
     },
     "34e5dd7c9c4c44f09d56198875d57f2d": {
      "model_module": "@jupyter-widgets/controls",
      "model_module_version": "2.0.0",
      "model_name": "HTMLStyleModel",
      "state": {
       "description_width": "",
       "font_size": null,
       "text_color": null
      }
     },
     "357091ac55c4412bb6af6e9de644b784": {
      "model_module": "@jupyter-widgets/controls",
      "model_module_version": "2.0.0",
      "model_name": "ProgressStyleModel",
      "state": {
       "description_width": ""
      }
     },
     "3723f73a763b4b628ea5a7a38d6c1639": {
      "model_module": "@jupyter-widgets/controls",
      "model_module_version": "2.0.0",
      "model_name": "HTMLStyleModel",
      "state": {
       "description_width": "",
       "font_size": null,
       "text_color": null
      }
     },
     "3799fc64ee4d4d708af92fd7ebed6e62": {
      "model_module": "@jupyter-widgets/controls",
      "model_module_version": "2.0.0",
      "model_name": "HTMLStyleModel",
      "state": {
       "description_width": "",
       "font_size": null,
       "text_color": null
      }
     },
     "3a8e58ac6f9f4df0a1c4d6d54f41148c": {
      "model_module": "@jupyter-widgets/controls",
      "model_module_version": "2.0.0",
      "model_name": "HTMLStyleModel",
      "state": {
       "description_width": "",
       "font_size": null,
       "text_color": null
      }
     },
     "3a916847e5d54e658364ea27ec0a6b4c": {
      "model_module": "@jupyter-widgets/controls",
      "model_module_version": "2.0.0",
      "model_name": "HTMLModel",
      "state": {
       "layout": "IPY_MODEL_e1a698990ad54dde94f832cb98b2c048",
       "style": "IPY_MODEL_c13621f43de4497c84fce138d9e79a99",
       "value": " 1/1 [00:01&lt;00:00,  1.42s/tasks]"
      }
     },
     "3b060117afb94fa3a8dcf4daa2f2c2bf": {
      "model_module": "@jupyter-widgets/controls",
      "model_module_version": "2.0.0",
      "model_name": "HTMLModel",
      "state": {
       "layout": "IPY_MODEL_ef865363673a470b8a14a68e30d566d0",
       "style": "IPY_MODEL_34e5dd7c9c4c44f09d56198875d57f2d",
       "value": " 4/4 [00:01&lt;00:00,  1.24s/engine]"
      }
     },
     "3ca74ac129dd41eb83b52de4585aed57": {
      "model_module": "@jupyter-widgets/controls",
      "model_module_version": "2.0.0",
      "model_name": "HTMLStyleModel",
      "state": {
       "description_width": "",
       "font_size": null,
       "text_color": null
      }
     },
     "3d0333ab617f4020921f62f8902ceefe": {
      "model_module": "@jupyter-widgets/base",
      "model_module_version": "2.0.0",
      "model_name": "LayoutModel",
      "state": {}
     },
     "3eb917793781461d86acf8126aa91b7a": {
      "model_module": "@jupyter-widgets/controls",
      "model_module_version": "2.0.0",
      "model_name": "ProgressStyleModel",
      "state": {
       "description_width": ""
      }
     },
     "3f2ab96274d5450496b14acb4e44d3d3": {
      "model_module": "@jupyter-widgets/base",
      "model_module_version": "2.0.0",
      "model_name": "LayoutModel",
      "state": {}
     },
     "41665a22cec44ce894214f8e27511503": {
      "model_module": "@jupyter-widgets/controls",
      "model_module_version": "2.0.0",
      "model_name": "ProgressStyleModel",
      "state": {
       "description_width": ""
      }
     },
     "4284dc36739e4c1ead985f0fa233377d": {
      "model_module": "@jupyter-widgets/base",
      "model_module_version": "2.0.0",
      "model_name": "LayoutModel",
      "state": {}
     },
     "43b665884fd04f92b9d641c560d9fb7e": {
      "model_module": "@jupyter-widgets/base",
      "model_module_version": "2.0.0",
      "model_name": "LayoutModel",
      "state": {}
     },
     "455c70e5038345d89c9900be3dc52b0f": {
      "model_module": "@jupyter-widgets/controls",
      "model_module_version": "2.0.0",
      "model_name": "HBoxModel",
      "state": {
       "children": [
        "IPY_MODEL_1ded38f5e65e42c194b3ce6385dea8e1",
        "IPY_MODEL_d6968596ff30428ea3ee2c9b86709469",
        "IPY_MODEL_1d2997600bb244ac93637f49d6496c87"
       ],
       "layout": "IPY_MODEL_4b4c5429e1714088854f888899d8f3cf"
      }
     },
     "47a015438e5d488b9e50455addcae65c": {
      "model_module": "@jupyter-widgets/controls",
      "model_module_version": "2.0.0",
      "model_name": "ProgressStyleModel",
      "state": {
       "description_width": ""
      }
     },
     "4b4c5429e1714088854f888899d8f3cf": {
      "model_module": "@jupyter-widgets/base",
      "model_module_version": "2.0.0",
      "model_name": "LayoutModel",
      "state": {}
     },
     "4fa74bf688eb49a98f760e5b93ada0ee": {
      "model_module": "@jupyter-widgets/controls",
      "model_module_version": "2.0.0",
      "model_name": "HTMLModel",
      "state": {
       "layout": "IPY_MODEL_151ae59e9428465c89c7b7ebdc55353b",
       "style": "IPY_MODEL_ff69120503ac4324894351eab1892b46",
       "value": " 1/1 [00:01&lt;00:00,  1.41s/engine]"
      }
     },
     "509897b810154212a93ef6d6f3a13ee6": {
      "model_module": "@jupyter-widgets/controls",
      "model_module_version": "2.0.0",
      "model_name": "HTMLStyleModel",
      "state": {
       "description_width": "",
       "font_size": null,
       "text_color": null
      }
     },
     "57dfaef37ff74a678e2af68718f9daab": {
      "model_module": "@jupyter-widgets/base",
      "model_module_version": "2.0.0",
      "model_name": "LayoutModel",
      "state": {}
     },
     "57ebb2a238ab4bba9148a542a69ff9dc": {
      "model_module": "@jupyter-widgets/controls",
      "model_module_version": "2.0.0",
      "model_name": "HTMLModel",
      "state": {
       "layout": "IPY_MODEL_6459a654150d48a7a50ca6d3e7dcbdb1",
       "style": "IPY_MODEL_0f721f78ccc541628aadc2baacb7afc0",
       "value": "overall progress: 100%"
      }
     },
     "5ac652da29be455a8b12b8341a775716": {
      "model_module": "@jupyter-widgets/controls",
      "model_module_version": "2.0.0",
      "model_name": "HTMLModel",
      "state": {
       "layout": "IPY_MODEL_c69340908c8c4b3c894adc0b6951740f",
       "style": "IPY_MODEL_b78fbe73600740ddb5aa94cd9f2dc6de",
       "value": "100%"
      }
     },
     "5e158003a68a4af59ebb0b681d9ba2e9": {
      "model_module": "@jupyter-widgets/controls",
      "model_module_version": "2.0.0",
      "model_name": "ProgressStyleModel",
      "state": {
       "description_width": ""
      }
     },
     "6218726486d1477c8989d9f537889cdd": {
      "model_module": "@jupyter-widgets/controls",
      "model_module_version": "2.0.0",
      "model_name": "HBoxModel",
      "state": {
       "children": [
        "IPY_MODEL_5ac652da29be455a8b12b8341a775716",
        "IPY_MODEL_7d60103985804adead8d97df944e7f21",
        "IPY_MODEL_3b060117afb94fa3a8dcf4daa2f2c2bf"
       ],
       "layout": "IPY_MODEL_a3567c98d2b7404e9eb76227946ead21"
      }
     },
     "6459a654150d48a7a50ca6d3e7dcbdb1": {
      "model_module": "@jupyter-widgets/base",
      "model_module_version": "2.0.0",
      "model_name": "LayoutModel",
      "state": {}
     },
     "665a9dbfffaa4054abe2cee9acc2c3ef": {
      "model_module": "@jupyter-widgets/base",
      "model_module_version": "2.0.0",
      "model_name": "LayoutModel",
      "state": {}
     },
     "66fb9b5960e04dcdaae85a405f037643": {
      "model_module": "@jupyter-widgets/controls",
      "model_module_version": "2.0.0",
      "model_name": "HTMLStyleModel",
      "state": {
       "description_width": "",
       "font_size": null,
       "text_color": null
      }
     },
     "69cd53dea0784d2c983dfc1659e10f4a": {
      "model_module": "@jupyter-widgets/base",
      "model_module_version": "2.0.0",
      "model_name": "LayoutModel",
      "state": {}
     },
     "69ce290291f14d2291228f63260075a1": {
      "model_module": "@jupyter-widgets/controls",
      "model_module_version": "2.0.0",
      "model_name": "HTMLModel",
      "state": {
       "layout": "IPY_MODEL_1cd220ae3a70476bb0d7be5da2f9afa8",
       "style": "IPY_MODEL_9e650c2c200c4aedb9c2e9b35b28fcc5",
       "value": "solve_poisson: 100%"
      }
     },
     "6cc831d6d6c84f2cbcd8bc454569a6d8": {
      "model_module": "@jupyter-widgets/base",
      "model_module_version": "2.0.0",
      "model_name": "LayoutModel",
      "state": {}
     },
     "6d38047ade17449daecf73f34c97ae69": {
      "model_module": "@jupyter-widgets/controls",
      "model_module_version": "2.0.0",
      "model_name": "HTMLModel",
      "state": {
       "layout": "IPY_MODEL_828bb9fcd4c4428db2b235216c9d576f",
       "style": "IPY_MODEL_fb014d0b31c940d19b9a96789e2ce087",
       "value": "100%"
      }
     },
     "6eb5543f98a0403296a4fb4a947d0c23": {
      "model_module": "@jupyter-widgets/base",
      "model_module_version": "2.0.0",
      "model_name": "LayoutModel",
      "state": {}
     },
     "73f0d0735fd742daa25ed6f3f6b85f5b": {
      "model_module": "@jupyter-widgets/controls",
      "model_module_version": "2.0.0",
      "model_name": "HTMLModel",
      "state": {
       "layout": "IPY_MODEL_2948873dc02741a8998da98c538eb4cd",
       "style": "IPY_MODEL_7e6a4e02a92547e886c09c4a1eacd250",
       "value": " 4/4 [00:15&lt;00:00,  3.89s/it]"
      }
     },
     "74659af66d0e447abb76f001e426e279": {
      "model_module": "@jupyter-widgets/controls",
      "model_module_version": "2.0.0",
      "model_name": "HTMLStyleModel",
      "state": {
       "description_width": "",
       "font_size": null,
       "text_color": null
      }
     },
     "7491e80b37b54d36a16bfa28d6e7348a": {
      "model_module": "@jupyter-widgets/controls",
      "model_module_version": "2.0.0",
      "model_name": "HTMLStyleModel",
      "state": {
       "description_width": "",
       "font_size": null,
       "text_color": null
      }
     },
     "767f351e9bc94e0db147c4def6839a89": {
      "model_module": "@jupyter-widgets/base",
      "model_module_version": "2.0.0",
      "model_name": "LayoutModel",
      "state": {}
     },
     "7763c849848d44a0a9c17178619e8865": {
      "model_module": "@jupyter-widgets/controls",
      "model_module_version": "2.0.0",
      "model_name": "HTMLStyleModel",
      "state": {
       "description_width": "",
       "font_size": null,
       "text_color": null
      }
     },
     "7b401ec9aa4640249a9bbe71de18a685": {
      "model_module": "@jupyter-widgets/base",
      "model_module_version": "2.0.0",
      "model_name": "LayoutModel",
      "state": {}
     },
     "7c328fa7a5d94239ba92a2a43b779a76": {
      "model_module": "@jupyter-widgets/controls",
      "model_module_version": "2.0.0",
      "model_name": "HBoxModel",
      "state": {
       "children": [
        "IPY_MODEL_6d38047ade17449daecf73f34c97ae69",
        "IPY_MODEL_0cd21ee569b9438cb175b2b587cc7ada",
        "IPY_MODEL_bc6aa1793cfa497fba5dbd9dfaadef37"
       ],
       "layout": "IPY_MODEL_69cd53dea0784d2c983dfc1659e10f4a"
      }
     },
     "7d60103985804adead8d97df944e7f21": {
      "model_module": "@jupyter-widgets/controls",
      "model_module_version": "2.0.0",
      "model_name": "FloatProgressModel",
      "state": {
       "bar_style": "success",
       "layout": "IPY_MODEL_7b401ec9aa4640249a9bbe71de18a685",
       "max": 4,
       "style": "IPY_MODEL_8139f311a7714a1ea80961d65712bc99",
       "value": 4
      }
     },
     "7e6a4e02a92547e886c09c4a1eacd250": {
      "model_module": "@jupyter-widgets/controls",
      "model_module_version": "2.0.0",
      "model_name": "HTMLStyleModel",
      "state": {
       "description_width": "",
       "font_size": null,
       "text_color": null
      }
     },
     "7fa3a5b37af748e89f8af50174be6b1b": {
      "model_module": "@jupyter-widgets/base",
      "model_module_version": "2.0.0",
      "model_name": "LayoutModel",
      "state": {}
     },
     "8139f311a7714a1ea80961d65712bc99": {
      "model_module": "@jupyter-widgets/controls",
      "model_module_version": "2.0.0",
      "model_name": "ProgressStyleModel",
      "state": {
       "description_width": ""
      }
     },
     "81e8f21b87bd484dbf997c06e77eb13a": {
      "model_module": "@jupyter-widgets/base",
      "model_module_version": "2.0.0",
      "model_name": "LayoutModel",
      "state": {}
     },
     "828bb9fcd4c4428db2b235216c9d576f": {
      "model_module": "@jupyter-widgets/base",
      "model_module_version": "2.0.0",
      "model_name": "LayoutModel",
      "state": {}
     },
     "866f42685b8e466f8e2b4a51e20e8ab3": {
      "model_module": "@jupyter-widgets/controls",
      "model_module_version": "2.0.0",
      "model_name": "FloatProgressModel",
      "state": {
       "bar_style": "success",
       "layout": "IPY_MODEL_3f2ab96274d5450496b14acb4e44d3d3",
       "max": 4,
       "style": "IPY_MODEL_a7f76823eb5c4811ac601cf3e491598a",
       "value": 4
      }
     },
     "88b758e71c144af3b15c8ce6c1c49cac": {
      "model_module": "@jupyter-widgets/base",
      "model_module_version": "2.0.0",
      "model_name": "LayoutModel",
      "state": {}
     },
     "8cedbafeb2614efeacbf3d66828a5868": {
      "model_module": "@jupyter-widgets/controls",
      "model_module_version": "2.0.0",
      "model_name": "HTMLModel",
      "state": {
       "layout": "IPY_MODEL_6cc831d6d6c84f2cbcd8bc454569a6d8",
       "style": "IPY_MODEL_a1ae05d4f0654e1d81a23cfbfbdc8211",
       "value": " 8/8 [00:00&lt;00:00,  9.02tasks/s]"
      }
     },
     "8eb3bb9456544c49b5650c6b5b01a8c2": {
      "model_module": "@jupyter-widgets/controls",
      "model_module_version": "2.0.0",
      "model_name": "ProgressStyleModel",
      "state": {
       "description_width": ""
      }
     },
     "91afc2e1f7584d0494e5625bf6a109b9": {
      "model_module": "@jupyter-widgets/controls",
      "model_module_version": "2.0.0",
      "model_name": "HTMLModel",
      "state": {
       "layout": "IPY_MODEL_e765787d3df949a3a6e39548803875e3",
       "style": "IPY_MODEL_f3bf1625f0c54f109eb083ec121e379a",
       "value": "100%"
      }
     },
     "955fb9e7c96d4f3397341d24fc5283c3": {
      "model_module": "@jupyter-widgets/controls",
      "model_module_version": "2.0.0",
      "model_name": "HBoxModel",
      "state": {
       "children": [
        "IPY_MODEL_ea2b1cdfdc714990a2a32f5211235dd6",
        "IPY_MODEL_dad62da509dc433cb61dfa632bc2e238",
        "IPY_MODEL_8cedbafeb2614efeacbf3d66828a5868"
       ],
       "layout": "IPY_MODEL_feedd3c449be4fe2a73811cb4109fb1b"
      }
     },
     "9b62312c0ad14757a68bdf397a144d62": {
      "model_module": "@jupyter-widgets/base",
      "model_module_version": "2.0.0",
      "model_name": "LayoutModel",
      "state": {}
     },
     "9e4b306cc76244c98ebb0615581b1558": {
      "model_module": "@jupyter-widgets/base",
      "model_module_version": "2.0.0",
      "model_name": "LayoutModel",
      "state": {}
     },
     "9e4ef71eb3fc456fb3fac6a266b8d72c": {
      "model_module": "@jupyter-widgets/controls",
      "model_module_version": "2.0.0",
      "model_name": "HBoxModel",
      "state": {
       "children": [
        "IPY_MODEL_b5eaf03aa36a4dd1bdb4e218ef96d7af",
        "IPY_MODEL_1f8be10010a64d21900405a3d0f6c7f5",
        "IPY_MODEL_3a916847e5d54e658364ea27ec0a6b4c"
       ],
       "layout": "IPY_MODEL_1ee58452015b4804b36f3a32bb73cbee"
      }
     },
     "9e650c2c200c4aedb9c2e9b35b28fcc5": {
      "model_module": "@jupyter-widgets/controls",
      "model_module_version": "2.0.0",
      "model_name": "HTMLStyleModel",
      "state": {
       "description_width": "",
       "font_size": null,
       "text_color": null
      }
     },
     "a1ae05d4f0654e1d81a23cfbfbdc8211": {
      "model_module": "@jupyter-widgets/controls",
      "model_module_version": "2.0.0",
      "model_name": "HTMLStyleModel",
      "state": {
       "description_width": "",
       "font_size": null,
       "text_color": null
      }
     },
     "a2bea87da04544f68bad3216b143aa9c": {
      "model_module": "@jupyter-widgets/controls",
      "model_module_version": "2.0.0",
      "model_name": "HTMLModel",
      "state": {
       "layout": "IPY_MODEL_045085cd985e4cf59fa6fa06f9412b87",
       "style": "IPY_MODEL_7763c849848d44a0a9c17178619e8865",
       "value": " 2/2 [00:01&lt;00:00,  1.56tasks/s]"
      }
     },
     "a3567c98d2b7404e9eb76227946ead21": {
      "model_module": "@jupyter-widgets/base",
      "model_module_version": "2.0.0",
      "model_name": "LayoutModel",
      "state": {}
     },
     "a3ce1fe312ce465eb1688496ecc8a5fb": {
      "model_module": "@jupyter-widgets/controls",
      "model_module_version": "2.0.0",
      "model_name": "ProgressStyleModel",
      "state": {
       "description_width": ""
      }
     },
     "a7f76823eb5c4811ac601cf3e491598a": {
      "model_module": "@jupyter-widgets/controls",
      "model_module_version": "2.0.0",
      "model_name": "ProgressStyleModel",
      "state": {
       "description_width": ""
      }
     },
     "a8ea997b4feb4169bea57e45bca6ab03": {
      "model_module": "@jupyter-widgets/base",
      "model_module_version": "2.0.0",
      "model_name": "LayoutModel",
      "state": {}
     },
     "a9dd48ef1ed24645b94535a748254013": {
      "model_module": "@jupyter-widgets/controls",
      "model_module_version": "2.0.0",
      "model_name": "HBoxModel",
      "state": {
       "children": [
        "IPY_MODEL_0525b19b1d18402bb9c705130b3c1050",
        "IPY_MODEL_866f42685b8e466f8e2b4a51e20e8ab3",
        "IPY_MODEL_195ae3548c6e4e14abf243c9ec6baa2a"
       ],
       "layout": "IPY_MODEL_fd90871f402740f8984937120f5b790a"
      }
     },
     "abfc358c18de486485f04ba74ac7640d": {
      "model_module": "@jupyter-widgets/base",
      "model_module_version": "2.0.0",
      "model_name": "LayoutModel",
      "state": {}
     },
     "ac2797c0551444fda134d1e92cda4817": {
      "model_module": "@jupyter-widgets/controls",
      "model_module_version": "2.0.0",
      "model_name": "HTMLStyleModel",
      "state": {
       "description_width": "",
       "font_size": null,
       "text_color": null
      }
     },
     "ac504e98bf7a4f3e874292adef9997cb": {
      "model_module": "@jupyter-widgets/base",
      "model_module_version": "2.0.0",
      "model_name": "LayoutModel",
      "state": {}
     },
     "b3e3fac3d02544f2ba356fee28159cb7": {
      "model_module": "@jupyter-widgets/base",
      "model_module_version": "2.0.0",
      "model_name": "LayoutModel",
      "state": {}
     },
     "b4878ce6c405461f9a5fb291435cafef": {
      "model_module": "@jupyter-widgets/controls",
      "model_module_version": "2.0.0",
      "model_name": "FloatProgressModel",
      "state": {
       "bar_style": "success",
       "layout": "IPY_MODEL_bd08c85cc58047e3bb765b89e20b5721",
       "max": 4,
       "style": "IPY_MODEL_3eb917793781461d86acf8126aa91b7a",
       "value": 4
      }
     },
     "b5eaf03aa36a4dd1bdb4e218ef96d7af": {
      "model_module": "@jupyter-widgets/controls",
      "model_module_version": "2.0.0",
      "model_name": "HTMLModel",
      "state": {
       "layout": "IPY_MODEL_1bf1453a2faa405babbbaa93cbf46751",
       "style": "IPY_MODEL_ede5088ea82149f9b424623cb22fb434",
       "value": "solve_poisson: 100%"
      }
     },
     "b78fbe73600740ddb5aa94cd9f2dc6de": {
      "model_module": "@jupyter-widgets/controls",
      "model_module_version": "2.0.0",
      "model_name": "HTMLStyleModel",
      "state": {
       "description_width": "",
       "font_size": null,
       "text_color": null
      }
     },
     "bbd739ad5e3c4fd0a7f73bf277d2f6a9": {
      "model_module": "@jupyter-widgets/base",
      "model_module_version": "2.0.0",
      "model_name": "LayoutModel",
      "state": {}
     },
     "bc6aa1793cfa497fba5dbd9dfaadef37": {
      "model_module": "@jupyter-widgets/controls",
      "model_module_version": "2.0.0",
      "model_name": "HTMLModel",
      "state": {
       "layout": "IPY_MODEL_d941a351cac744d8a3b0e7daa2d27864",
       "style": "IPY_MODEL_3723f73a763b4b628ea5a7a38d6c1639",
       "value": " 1/1 [00:00&lt;00:00,  1.04engine/s]"
      }
     },
     "bd08c85cc58047e3bb765b89e20b5721": {
      "model_module": "@jupyter-widgets/base",
      "model_module_version": "2.0.0",
      "model_name": "LayoutModel",
      "state": {}
     },
     "c13621f43de4497c84fce138d9e79a99": {
      "model_module": "@jupyter-widgets/controls",
      "model_module_version": "2.0.0",
      "model_name": "HTMLStyleModel",
      "state": {
       "description_width": "",
       "font_size": null,
       "text_color": null
      }
     },
     "c2cac16973bb45bbabcb515c733b175c": {
      "model_module": "@jupyter-widgets/controls",
      "model_module_version": "2.0.0",
      "model_name": "HBoxModel",
      "state": {
       "children": [
        "IPY_MODEL_91afc2e1f7584d0494e5625bf6a109b9",
        "IPY_MODEL_0060c4ab573b46bea0d8efdf5caed4bc",
        "IPY_MODEL_4fa74bf688eb49a98f760e5b93ada0ee"
       ],
       "layout": "IPY_MODEL_665a9dbfffaa4054abe2cee9acc2c3ef"
      }
     },
     "c69340908c8c4b3c894adc0b6951740f": {
      "model_module": "@jupyter-widgets/base",
      "model_module_version": "2.0.0",
      "model_name": "LayoutModel",
      "state": {}
     },
     "c71b5a638735433a991047aee5cd2b51": {
      "model_module": "@jupyter-widgets/controls",
      "model_module_version": "2.0.0",
      "model_name": "HTMLModel",
      "state": {
       "layout": "IPY_MODEL_81e8f21b87bd484dbf997c06e77eb13a",
       "style": "IPY_MODEL_509897b810154212a93ef6d6f3a13ee6",
       "value": "solve_poisson: 100%"
      }
     },
     "cc4116ecbbd848afa0d8405be9a2374e": {
      "model_module": "@jupyter-widgets/base",
      "model_module_version": "2.0.0",
      "model_name": "LayoutModel",
      "state": {}
     },
     "d3980390f14b4ba39b8003fdc047e699": {
      "model_module": "@jupyter-widgets/controls",
      "model_module_version": "2.0.0",
      "model_name": "FloatProgressModel",
      "state": {
       "bar_style": "success",
       "layout": "IPY_MODEL_4284dc36739e4c1ead985f0fa233377d",
       "max": 2,
       "style": "IPY_MODEL_fdd86d982a49497fbc9baf4c4c6d1970",
       "value": 2
      }
     },
     "d5d323d93b954477b1e46faef866c061": {
      "model_module": "@jupyter-widgets/controls",
      "model_module_version": "2.0.0",
      "model_name": "HTMLStyleModel",
      "state": {
       "description_width": "",
       "font_size": null,
       "text_color": null
      }
     },
     "d6968596ff30428ea3ee2c9b86709469": {
      "model_module": "@jupyter-widgets/controls",
      "model_module_version": "2.0.0",
      "model_name": "FloatProgressModel",
      "state": {
       "bar_style": "success",
       "layout": "IPY_MODEL_57dfaef37ff74a678e2af68718f9daab",
       "max": 2,
       "style": "IPY_MODEL_357091ac55c4412bb6af6e9de644b784",
       "value": 2
      }
     },
     "d941a351cac744d8a3b0e7daa2d27864": {
      "model_module": "@jupyter-widgets/base",
      "model_module_version": "2.0.0",
      "model_name": "LayoutModel",
      "state": {}
     },
     "dad62da509dc433cb61dfa632bc2e238": {
      "model_module": "@jupyter-widgets/controls",
      "model_module_version": "2.0.0",
      "model_name": "FloatProgressModel",
      "state": {
       "bar_style": "success",
       "layout": "IPY_MODEL_43b665884fd04f92b9d641c560d9fb7e",
       "max": 8,
       "style": "IPY_MODEL_41665a22cec44ce894214f8e27511503",
       "value": 8
      }
     },
     "e0a64eecc02b45eaa7fa949384663931": {
      "model_module": "@jupyter-widgets/base",
      "model_module_version": "2.0.0",
      "model_name": "LayoutModel",
      "state": {}
     },
     "e1a698990ad54dde94f832cb98b2c048": {
      "model_module": "@jupyter-widgets/base",
      "model_module_version": "2.0.0",
      "model_name": "LayoutModel",
      "state": {}
     },
     "e55b7457570048d4a6900fb47587014d": {
      "model_module": "@jupyter-widgets/controls",
      "model_module_version": "2.0.0",
      "model_name": "HBoxModel",
      "state": {
       "children": [
        "IPY_MODEL_c71b5a638735433a991047aee5cd2b51",
        "IPY_MODEL_d3980390f14b4ba39b8003fdc047e699",
        "IPY_MODEL_a2bea87da04544f68bad3216b143aa9c"
       ],
       "layout": "IPY_MODEL_e0a64eecc02b45eaa7fa949384663931"
      }
     },
     "e765787d3df949a3a6e39548803875e3": {
      "model_module": "@jupyter-widgets/base",
      "model_module_version": "2.0.0",
      "model_name": "LayoutModel",
      "state": {}
     },
     "e8510b0a8a4749b0bc9955dc8efd21c1": {
      "model_module": "@jupyter-widgets/controls",
      "model_module_version": "2.0.0",
      "model_name": "HBoxModel",
      "state": {
       "children": [
        "IPY_MODEL_57ebb2a238ab4bba9148a542a69ff9dc",
        "IPY_MODEL_b4878ce6c405461f9a5fb291435cafef",
        "IPY_MODEL_73f0d0735fd742daa25ed6f3f6b85f5b"
       ],
       "layout": "IPY_MODEL_9b62312c0ad14757a68bdf397a144d62"
      }
     },
     "ea273d86305d4ceea5217f8fec812b80": {
      "model_module": "@jupyter-widgets/controls",
      "model_module_version": "2.0.0",
      "model_name": "HTMLModel",
      "state": {
       "layout": "IPY_MODEL_7fa3a5b37af748e89f8af50174be6b1b",
       "style": "IPY_MODEL_d5d323d93b954477b1e46faef866c061",
       "value": " 8/8 [00:01&lt;00:00,  1.44s/engine]"
      }
     },
     "ea2b1cdfdc714990a2a32f5211235dd6": {
      "model_module": "@jupyter-widgets/controls",
      "model_module_version": "2.0.0",
      "model_name": "HTMLModel",
      "state": {
       "layout": "IPY_MODEL_6eb5543f98a0403296a4fb4a947d0c23",
       "style": "IPY_MODEL_ac2797c0551444fda134d1e92cda4817",
       "value": "solve_poisson: 100%"
      }
     },
     "ed4127e299f1438a91a6e16e188f7a10": {
      "model_module": "@jupyter-widgets/controls",
      "model_module_version": "2.0.0",
      "model_name": "HBoxModel",
      "state": {
       "children": [
        "IPY_MODEL_268afb9e307347058300cb22c88fdd3a",
        "IPY_MODEL_0225751550a24073ac2893d269a0d433",
        "IPY_MODEL_ea273d86305d4ceea5217f8fec812b80"
       ],
       "layout": "IPY_MODEL_024f54de498145488a900de38ffa1958"
      }
     },
     "ede5088ea82149f9b424623cb22fb434": {
      "model_module": "@jupyter-widgets/controls",
      "model_module_version": "2.0.0",
      "model_name": "HTMLStyleModel",
      "state": {
       "description_width": "",
       "font_size": null,
       "text_color": null
      }
     },
     "ef865363673a470b8a14a68e30d566d0": {
      "model_module": "@jupyter-widgets/base",
      "model_module_version": "2.0.0",
      "model_name": "LayoutModel",
      "state": {}
     },
     "f3bf1625f0c54f109eb083ec121e379a": {
      "model_module": "@jupyter-widgets/controls",
      "model_module_version": "2.0.0",
      "model_name": "HTMLStyleModel",
      "state": {
       "description_width": "",
       "font_size": null,
       "text_color": null
      }
     },
     "faa01e33cc374efb814a4873b872cf50": {
      "model_module": "@jupyter-widgets/base",
      "model_module_version": "2.0.0",
      "model_name": "LayoutModel",
      "state": {}
     },
     "fb014d0b31c940d19b9a96789e2ce087": {
      "model_module": "@jupyter-widgets/controls",
      "model_module_version": "2.0.0",
      "model_name": "HTMLStyleModel",
      "state": {
       "description_width": "",
       "font_size": null,
       "text_color": null
      }
     },
     "fd90871f402740f8984937120f5b790a": {
      "model_module": "@jupyter-widgets/base",
      "model_module_version": "2.0.0",
      "model_name": "LayoutModel",
      "state": {}
     },
     "fdd86d982a49497fbc9baf4c4c6d1970": {
      "model_module": "@jupyter-widgets/controls",
      "model_module_version": "2.0.0",
      "model_name": "ProgressStyleModel",
      "state": {
       "description_width": ""
      }
     },
     "feedd3c449be4fe2a73811cb4109fb1b": {
      "model_module": "@jupyter-widgets/base",
      "model_module_version": "2.0.0",
      "model_name": "LayoutModel",
      "state": {}
     },
     "ff69120503ac4324894351eab1892b46": {
      "model_module": "@jupyter-widgets/controls",
      "model_module_version": "2.0.0",
      "model_name": "HTMLStyleModel",
      "state": {
       "description_width": "",
       "font_size": null,
       "text_color": null
      }
     }
    },
    "version_major": 2,
    "version_minor": 0
   }
  }
 },
 "nbformat": 4,
 "nbformat_minor": 4
}
