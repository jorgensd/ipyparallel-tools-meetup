{
 "cells": [
  {
   "cell_type": "code",
   "execution_count": 1,
   "metadata": {},
   "outputs": [
    {
     "name": "stdout",
     "output_type": "stream",
     "text": [
      "Starting 1 engines with <class 'ipyparallel.cluster.launcher.MPIEngineSetLauncher'>\n"
     ]
    },
    {
     "data": {
      "application/vnd.jupyter.widget-view+json": {
       "model_id": "e8165d6da7d94ea6a5ecb629c469a7e9",
       "version_major": 2,
       "version_minor": 0
      },
      "text/plain": [
       "  0%|          | 0/1 [00:00<?, ?engine/s]"
      ]
     },
     "metadata": {},
     "output_type": "display_data"
    }
   ],
   "source": [
    "import ipyparallel as ipp\n",
    "cluster = ipp.Cluster(n=1, engines=\"mpi\")\n",
    "rc = cluster.start_and_connect_sync(activate=True)"
   ]
  },
  {
   "cell_type": "code",
   "execution_count": 2,
   "metadata": {},
   "outputs": [],
   "source": [
    "def apply_imports(cluster):\n",
    "    with cluster[:].sync_imports():\n",
    "        import dolfinx\n",
    "        from mpi4py import MPI\n",
    "        import time\n",
    "        import ufl\n",
    "        import numpy"
   ]
  },
  {
   "cell_type": "code",
   "execution_count": 3,
   "metadata": {},
   "outputs": [],
   "source": [
    "def solve_poisson(N):\n",
    "    start = time.perf_counter()\n",
    "    mesh = dolfinx.mesh.create_unit_square(MPI.COMM_WORLD, N, N)\n",
    "    V = dolfinx.fem.FunctionSpace(mesh, (\"Lagrange\", 1))\n",
    "    u = ufl.TrialFunction(V)\n",
    "    v = ufl.TestFunction(V)\n",
    "    a = ufl.inner(ufl.grad(u), ufl.grad(v)) * ufl.dx\n",
    "    x = ufl.SpatialCoordinate(mesh)\n",
    "    f = ufl.cos(2*ufl.pi*x[0])\n",
    "    L = ufl.inner(f, v) * ufl.dx\n",
    "    mesh.topology.create_connectivity(mesh.topology.dim-1, mesh.topology.dim)\n",
    "    bndry_facets = dolfinx.mesh.exterior_facet_indices(mesh.topology)\n",
    "    bndry_dofs = dolfinx.fem.locate_dofs_topological(\n",
    "        V, mesh.topology.dim-1, bndry_facets)\n",
    "    bc = [dolfinx.fem.dirichletbc(numpy.float64(0), bndry_dofs, V)]\n",
    "    petsc_options = {\"ksp_type\": \"cg\",\n",
    "                     \"pc_type\": \"hypre\",\n",
    "                     \"pc_hypre_type\": \"boomeramg\",\n",
    "                     \"ksp_rtol\": 1.0e-8,\n",
    "                     \"pc_hypre_boomeramg_strong_threshold\": 0.7,\n",
    "                     \"pc_hypre_boomeramg_agg_nl\": 4,\n",
    "                     \"pc_hypre_boomeramg_agg_num_paths\": 2}\n",
    "    end = time.perf_counter()\n",
    "\n",
    "    problem = dolfinx.fem.petsc.LinearProblem(\n",
    "        a, L, bc, petsc_options=petsc_options)\n",
    "    uh = problem.solve()\n",
    "\n",
    "    local_cntr = dolfinx.fem.assemble_scalar(dolfinx.fem.form(uh*uh*ufl.dx))\n",
    "    global_cntr = mesh.comm.reduce(local_cntr, op=MPI.SUM, root=0)\n",
    "    it = problem.solver.getIterationNumber()\n",
    "    if mesh.comm.rank == 0:\n",
    "        print(\n",
    "            f\"Num processes: {mesh.comm.size} Num dofs: {V.dofmap.index_map.size_global} Num iterations: {it} int u^2: {global_cntr}\")\n",
    "    return end-start"
   ]
  },
  {
   "cell_type": "code",
   "execution_count": 4,
   "metadata": {},
   "outputs": [
    {
     "name": "stdout",
     "output_type": "stream",
     "text": [
      "importing dolfinx on engine(s)\n",
      "importing MPI from mpi4py on engine(s)\n",
      "importing time on engine(s)\n",
      "importing ufl on engine(s)\n",
      "importing numpy on engine(s)\n"
     ]
    }
   ],
   "source": [
    "apply_imports(rc)"
   ]
  },
  {
   "cell_type": "code",
   "execution_count": 5,
   "metadata": {},
   "outputs": [
    {
     "name": "stdout",
     "output_type": "stream",
     "text": [
      "['Num processes: 1 Num iterations: 3 int u^2: 0.00021415479108388705\\n'] [0.2820550199999161]\n",
      "Stopping engine(s): 1681717252\n"
     ]
    },
    {
     "name": "stderr",
     "output_type": "stream",
     "text": [
      "INFO:ipyparallel.cluster.cluster.1681717251-cv75:Stopping engine(s): 1681717252\n"
     ]
    },
    {
     "name": "stdout",
     "output_type": "stream",
     "text": [
      "mpiexec error output:\n",
      "===================================================================================\n",
      "=   BAD TERMINATION OF ONE OF YOUR APPLICATION PROCESSES\n",
      "=   PID 27949 RUNNING AT dokken-XPS-9320\n",
      "=   EXIT CODE: 139\n",
      "=   CLEANING UP REMAINING PROCESSES\n",
      "=   YOU CAN IGNORE THE BELOW CLEANUP MESSAGES\n",
      "===================================================================================\n",
      "YOUR APPLICATION TERMINATED WITH THE EXIT STRING: Segmentation fault (signal 11)\n",
      "\n"
     ]
    },
    {
     "name": "stderr",
     "output_type": "stream",
     "text": [
      "WARNING:ipyparallel.cluster.cluster.1681717251-cv75:mpiexec error output:\n",
      "===================================================================================\n",
      "=   BAD TERMINATION OF ONE OF YOUR APPLICATION PROCESSES\n",
      "=   PID 27949 RUNNING AT dokken-XPS-9320\n",
      "=   EXIT CODE: 139\n",
      "=   CLEANING UP REMAINING PROCESSES\n",
      "=   YOU CAN IGNORE THE BELOW CLEANUP MESSAGES\n",
      "===================================================================================\n",
      "YOUR APPLICATION TERMINATED WITH THE EXIT STRING: Segmentation fault (signal 11)\n",
      "\n"
     ]
    },
    {
     "name": "stdout",
     "output_type": "stream",
     "text": [
      "engine set stopped 1681717252: {'exit_code': 139, 'pid': 27946, 'identifier': 'ipengine-1681717251-cv75-1681717252-27855'}\n"
     ]
    },
    {
     "name": "stderr",
     "output_type": "stream",
     "text": [
      "WARNING:ipyparallel.cluster.cluster.1681717251-cv75:engine set stopped 1681717252: {'exit_code': 139, 'pid': 27946, 'identifier': 'ipengine-1681717251-cv75-1681717252-27855'}\n"
     ]
    }
   ],
   "source": [
    "result_serial = rc[:].apply_async(solve_poisson, 300)\n",
    "result_serial.wait()\n",
    "print(result_serial.stdout, result_serial.get())\n",
    "await cluster.stop_engines()"
   ]
  },
  {
   "cell_type": "code",
   "execution_count": 6,
   "metadata": {},
   "outputs": [
    {
     "name": "stdout",
     "output_type": "stream",
     "text": [
      "Starting 1 engines with <class 'ipyparallel.cluster.launcher.MPIEngineSetLauncher'>\n"
     ]
    },
    {
     "name": "stderr",
     "output_type": "stream",
     "text": [
      "INFO:ipyparallel.cluster.cluster.1681717259-zeyx:Starting 1 engines with <class 'ipyparallel.cluster.launcher.MPIEngineSetLauncher'>\n"
     ]
    },
    {
     "data": {
      "application/vnd.jupyter.widget-view+json": {
       "model_id": "9b07ae465fb54637b0500a3309d83c29",
       "version_major": 2,
       "version_minor": 0
      },
      "text/plain": [
       "  0%|          | 0/1 [00:00<?, ?engine/s]"
      ]
     },
     "metadata": {},
     "output_type": "display_data"
    },
    {
     "name": "stdout",
     "output_type": "stream",
     "text": [
      "importing dolfinx on engine(s)\n",
      "importing MPI from mpi4py on engine(s)\n",
      "importing time on engine(s)\n",
      "importing ufl on engine(s)\n",
      "importing numpy on engine(s)\n",
      "9.911454402000118 ['Num processes: 1 Num iterations: 3 int u^2: 0.0002141708166904158\\n']\n",
      "Stopping engine(s): 1681717260\n"
     ]
    },
    {
     "name": "stderr",
     "output_type": "stream",
     "text": [
      "INFO:ipyparallel.cluster.cluster.1681717259-zeyx:Stopping engine(s): 1681717260\n"
     ]
    },
    {
     "name": "stdout",
     "output_type": "stream",
     "text": [
      "mpiexec error output:\n",
      "===================================================================================\n",
      "=   BAD TERMINATION OF ONE OF YOUR APPLICATION PROCESSES\n",
      "=   PID 28251 RUNNING AT dokken-XPS-9320\n",
      "=   EXIT CODE: 139\n",
      "=   CLEANING UP REMAINING PROCESSES\n",
      "=   YOU CAN IGNORE THE BELOW CLEANUP MESSAGES\n",
      "===================================================================================\n",
      "YOUR APPLICATION TERMINATED WITH THE EXIT STRING: Segmentation fault (signal 11)\n",
      "\n"
     ]
    },
    {
     "name": "stderr",
     "output_type": "stream",
     "text": [
      "WARNING:ipyparallel.cluster.cluster.1681717259-zeyx:mpiexec error output:\n",
      "===================================================================================\n",
      "=   BAD TERMINATION OF ONE OF YOUR APPLICATION PROCESSES\n",
      "=   PID 28251 RUNNING AT dokken-XPS-9320\n",
      "=   EXIT CODE: 139\n",
      "=   CLEANING UP REMAINING PROCESSES\n",
      "=   YOU CAN IGNORE THE BELOW CLEANUP MESSAGES\n",
      "===================================================================================\n",
      "YOUR APPLICATION TERMINATED WITH THE EXIT STRING: Segmentation fault (signal 11)\n",
      "\n"
     ]
    },
    {
     "name": "stdout",
     "output_type": "stream",
     "text": [
      "engine set stopped 1681717260: {'exit_code': 139, 'pid': 28248, 'identifier': 'ipengine-1681717259-zeyx-1681717260-27855'}\n"
     ]
    },
    {
     "name": "stderr",
     "output_type": "stream",
     "text": [
      "WARNING:ipyparallel.cluster.cluster.1681717259-zeyx:engine set stopped 1681717260: {'exit_code': 139, 'pid': 28248, 'identifier': 'ipengine-1681717259-zeyx-1681717260-27855'}\n"
     ]
    },
    {
     "name": "stdout",
     "output_type": "stream",
     "text": [
      "Starting 2 engines with <class 'ipyparallel.cluster.launcher.MPIEngineSetLauncher'>\n"
     ]
    },
    {
     "name": "stderr",
     "output_type": "stream",
     "text": [
      "INFO:ipyparallel.cluster.cluster.1681717280-86qp:Starting 2 engines with <class 'ipyparallel.cluster.launcher.MPIEngineSetLauncher'>\n"
     ]
    },
    {
     "data": {
      "application/vnd.jupyter.widget-view+json": {
       "model_id": "b2848e67354f4e4d8101920647af6299",
       "version_major": 2,
       "version_minor": 0
      },
      "text/plain": [
       "  0%|          | 0/2 [00:00<?, ?engine/s]"
      ]
     },
     "metadata": {},
     "output_type": "display_data"
    },
    {
     "name": "stdout",
     "output_type": "stream",
     "text": [
      "importing dolfinx on engine(s)\n",
      "importing MPI from mpi4py on engine(s)\n",
      "importing time on engine(s)\n",
      "importing ufl on engine(s)\n",
      "importing numpy on engine(s)\n",
      "9.77568483250002 ['Num processes: 2 Num iterations: 4 int u^2: 0.00021417052774214297\\n', '']\n",
      "Stopping engine(s): 1681717281\n"
     ]
    },
    {
     "name": "stderr",
     "output_type": "stream",
     "text": [
      "INFO:ipyparallel.cluster.cluster.1681717280-86qp:Stopping engine(s): 1681717281\n"
     ]
    },
    {
     "name": "stdout",
     "output_type": "stream",
     "text": [
      "mpiexec error output:\n",
      "===================================================================================\n",
      "=   BAD TERMINATION OF ONE OF YOUR APPLICATION PROCESSES\n",
      "=   PID 28520 RUNNING AT dokken-XPS-9320\n",
      "=   EXIT CODE: 139\n",
      "=   CLEANING UP REMAINING PROCESSES\n",
      "=   YOU CAN IGNORE THE BELOW CLEANUP MESSAGES\n",
      "===================================================================================\n",
      "YOUR APPLICATION TERMINATED WITH THE EXIT STRING: Segmentation fault (signal 11)\n",
      "\n"
     ]
    },
    {
     "name": "stderr",
     "output_type": "stream",
     "text": [
      "WARNING:ipyparallel.cluster.cluster.1681717280-86qp:mpiexec error output:\n",
      "===================================================================================\n",
      "=   BAD TERMINATION OF ONE OF YOUR APPLICATION PROCESSES\n",
      "=   PID 28520 RUNNING AT dokken-XPS-9320\n",
      "=   EXIT CODE: 139\n",
      "=   CLEANING UP REMAINING PROCESSES\n",
      "=   YOU CAN IGNORE THE BELOW CLEANUP MESSAGES\n",
      "===================================================================================\n",
      "YOUR APPLICATION TERMINATED WITH THE EXIT STRING: Segmentation fault (signal 11)\n",
      "\n"
     ]
    },
    {
     "name": "stdout",
     "output_type": "stream",
     "text": [
      "engine set stopped 1681717281: {'exit_code': 139, 'pid': 28517, 'identifier': 'ipengine-1681717280-86qp-1681717281-27855'}\n"
     ]
    },
    {
     "name": "stderr",
     "output_type": "stream",
     "text": [
      "WARNING:ipyparallel.cluster.cluster.1681717280-86qp:engine set stopped 1681717281: {'exit_code': 139, 'pid': 28517, 'identifier': 'ipengine-1681717280-86qp-1681717281-27855'}\n"
     ]
    },
    {
     "name": "stdout",
     "output_type": "stream",
     "text": [
      "Starting 4 engines with <class 'ipyparallel.cluster.launcher.MPIEngineSetLauncher'>\n"
     ]
    },
    {
     "name": "stderr",
     "output_type": "stream",
     "text": [
      "INFO:ipyparallel.cluster.cluster.1681717301-0gbk:Starting 4 engines with <class 'ipyparallel.cluster.launcher.MPIEngineSetLauncher'>\n"
     ]
    },
    {
     "data": {
      "application/vnd.jupyter.widget-view+json": {
       "model_id": "af930886b5ca4e6e9bfafce7147f85c0",
       "version_major": 2,
       "version_minor": 0
      },
      "text/plain": [
       "  0%|          | 0/4 [00:00<?, ?engine/s]"
      ]
     },
     "metadata": {},
     "output_type": "display_data"
    },
    {
     "name": "stdout",
     "output_type": "stream",
     "text": [
      "importing dolfinx on engine(s)\n",
      "importing MPI from mpi4py on engine(s)\n",
      "importing time on engine(s)\n",
      "importing ufl on engine(s)\n",
      "importing numpy on engine(s)\n",
      "9.226752110500001 ['Num processes: 4 Num iterations: 4 int u^2: 0.00021417050500088726\\n', '', '', '']\n",
      "Stopping engine(s): 1681717302\n"
     ]
    },
    {
     "name": "stderr",
     "output_type": "stream",
     "text": [
      "INFO:ipyparallel.cluster.cluster.1681717301-0gbk:Stopping engine(s): 1681717302\n"
     ]
    },
    {
     "name": "stdout",
     "output_type": "stream",
     "text": [
      "Failed to remove /home/dokken/.ipython/profile_default/log/ipengine-1681717301-0gbk-1681717302-27855.log: [Errno 2] No such file or directory: '/home/dokken/.ipython/profile_default/log/ipengine-1681717301-0gbk-1681717302-27855.log'\n"
     ]
    },
    {
     "name": "stderr",
     "output_type": "stream",
     "text": [
      "ERROR:ipyparallel.cluster.cluster.1681717301-0gbk:Failed to remove /home/dokken/.ipython/profile_default/log/ipengine-1681717301-0gbk-1681717302-27855.log: [Errno 2] No such file or directory: '/home/dokken/.ipython/profile_default/log/ipengine-1681717301-0gbk-1681717302-27855.log'\n"
     ]
    },
    {
     "name": "stdout",
     "output_type": "stream",
     "text": [
      "mpiexec error output:\n",
      "===================================================================================\n",
      "=   BAD TERMINATION OF ONE OF YOUR APPLICATION PROCESSES\n",
      "=   PID 28794 RUNNING AT dokken-XPS-9320\n",
      "=   EXIT CODE: 139\n",
      "=   CLEANING UP REMAINING PROCESSES\n",
      "=   YOU CAN IGNORE THE BELOW CLEANUP MESSAGES\n",
      "===================================================================================\n",
      "YOUR APPLICATION TERMINATED WITH THE EXIT STRING: Segmentation fault (signal 11)\n",
      "\n"
     ]
    },
    {
     "name": "stderr",
     "output_type": "stream",
     "text": [
      "WARNING:ipyparallel.cluster.cluster.1681717301-0gbk:mpiexec error output:\n",
      "===================================================================================\n",
      "=   BAD TERMINATION OF ONE OF YOUR APPLICATION PROCESSES\n",
      "=   PID 28794 RUNNING AT dokken-XPS-9320\n",
      "=   EXIT CODE: 139\n",
      "=   CLEANING UP REMAINING PROCESSES\n",
      "=   YOU CAN IGNORE THE BELOW CLEANUP MESSAGES\n",
      "===================================================================================\n",
      "YOUR APPLICATION TERMINATED WITH THE EXIT STRING: Segmentation fault (signal 11)\n",
      "\n"
     ]
    },
    {
     "name": "stdout",
     "output_type": "stream",
     "text": [
      "engine set stopped 1681717302: {'exit_code': 139, 'pid': 28791, 'identifier': 'ipengine-1681717301-0gbk-1681717302-27855'}\n"
     ]
    },
    {
     "name": "stderr",
     "output_type": "stream",
     "text": [
      "WARNING:ipyparallel.cluster.cluster.1681717301-0gbk:engine set stopped 1681717302: {'exit_code': 139, 'pid': 28791, 'identifier': 'ipengine-1681717301-0gbk-1681717302-27855'}\n"
     ]
    },
    {
     "name": "stdout",
     "output_type": "stream",
     "text": [
      "Starting 8 engines with <class 'ipyparallel.cluster.launcher.MPIEngineSetLauncher'>\n"
     ]
    },
    {
     "name": "stderr",
     "output_type": "stream",
     "text": [
      "INFO:ipyparallel.cluster.cluster.1681717322-x4vs:Starting 8 engines with <class 'ipyparallel.cluster.launcher.MPIEngineSetLauncher'>\n"
     ]
    },
    {
     "data": {
      "application/vnd.jupyter.widget-view+json": {
       "model_id": "9272badb45bd4f52b18dfaee480b3988",
       "version_major": 2,
       "version_minor": 0
      },
      "text/plain": [
       "  0%|          | 0/8 [00:00<?, ?engine/s]"
      ]
     },
     "metadata": {},
     "output_type": "display_data"
    },
    {
     "name": "stdout",
     "output_type": "stream",
     "text": [
      "importing dolfinx on engine(s)\n",
      "importing MPI from mpi4py on engine(s)\n",
      "importing time on engine(s)\n",
      "importing ufl on engine(s)\n",
      "importing numpy on engine(s)\n",
      "11.462204076624971 ['Num processes: 8 Num iterations: 4 int u^2: 0.00021417050373909708\\n', '', '', '', '', '', '', '']\n",
      "Stopping engine(s): 1681717323\n"
     ]
    },
    {
     "name": "stderr",
     "output_type": "stream",
     "text": [
      "INFO:ipyparallel.cluster.cluster.1681717322-x4vs:Stopping engine(s): 1681717323\n"
     ]
    },
    {
     "name": "stdout",
     "output_type": "stream",
     "text": [
      "mpiexec error output:\n",
      "===================================================================================\n",
      "=   BAD TERMINATION OF ONE OF YOUR APPLICATION PROCESSES\n",
      "=   PID 29052 RUNNING AT dokken-XPS-9320\n",
      "=   EXIT CODE: 9\n",
      "=   CLEANING UP REMAINING PROCESSES\n",
      "=   YOU CAN IGNORE THE BELOW CLEANUP MESSAGES\n",
      "===================================================================================\n",
      "YOUR APPLICATION TERMINATED WITH THE EXIT STRING: Segmentation fault (signal 11)\n",
      "\n"
     ]
    },
    {
     "name": "stderr",
     "output_type": "stream",
     "text": [
      "WARNING:ipyparallel.cluster.cluster.1681717322-x4vs:mpiexec error output:\n",
      "===================================================================================\n",
      "=   BAD TERMINATION OF ONE OF YOUR APPLICATION PROCESSES\n",
      "=   PID 29052 RUNNING AT dokken-XPS-9320\n",
      "=   EXIT CODE: 9\n",
      "=   CLEANING UP REMAINING PROCESSES\n",
      "=   YOU CAN IGNORE THE BELOW CLEANUP MESSAGES\n",
      "===================================================================================\n",
      "YOUR APPLICATION TERMINATED WITH THE EXIT STRING: Segmentation fault (signal 11)\n",
      "\n"
     ]
    },
    {
     "name": "stdout",
     "output_type": "stream",
     "text": [
      "engine set stopped 1681717323: {'exit_code': 139, 'pid': 29049, 'identifier': 'ipengine-1681717322-x4vs-1681717323-27855'}\n"
     ]
    },
    {
     "name": "stderr",
     "output_type": "stream",
     "text": [
      "WARNING:ipyparallel.cluster.cluster.1681717322-x4vs:engine set stopped 1681717323: {'exit_code': 139, 'pid': 29049, 'identifier': 'ipengine-1681717322-x4vs-1681717323-27855'}\n"
     ]
    }
   ],
   "source": [
    "import numpy\n",
    "mpi_processes = [1, 2, 4, 8]\n",
    "runtimes = numpy.zeros(len(mpi_processes))\n",
    "for i, processes in enumerate(mpi_processes):\n",
    "    cluster = ipp.Cluster(n=processes, engines=\"mpi\")\n",
    "    rc = cluster.start_and_connect_sync(activate=True)\n",
    "    apply_imports(rc)\n",
    "    process_runtimes = rc[:].apply_async(solve_poisson, 1500)\n",
    "    process_runtimes.wait()\n",
    "    runtimes[i] = numpy.sum(process_runtimes.get())/len(process_runtimes.get())\n",
    "    print(runtimes[i], process_runtimes.stdout)\n",
    "    await cluster.stop_engines()"
   ]
  },
  {
   "cell_type": "code",
   "execution_count": 7,
   "metadata": {},
   "outputs": [
    {
     "name": "stdout",
     "output_type": "stream",
     "text": [
      "Average runtimes\n",
      "1 9.911454402000118\n",
      "2 9.77568483250002\n",
      "4 9.226752110500001\n",
      "8 11.462204076624971\n"
     ]
    },
    {
     "data": {
      "image/png": "[encoded data removed]",
      "text/plain": [
       "<Figure size 640x480 with 1 Axes>"
      ]
     },
     "metadata": {},
     "output_type": "display_data"
    }
   ],
   "source": [
    "import matplotlib.pyplot as plt\n",
    "print(\"Average runtimes\")\n",
    "for num_processes, runtime in zip(mpi_processes, runtimes):\n",
    "    print(num_processes, runtime)\n",
    "plt.plot(mpi_processes, runtimes)\n",
    "plt.xlabel(\"Number of processes\")\n",
    "plt.ylabel(\"Runtime\")\n",
    "plt.grid()"
   ]
  },
  {
   "cell_type": "code",
   "execution_count": null,
   "metadata": {},
   "outputs": [],
   "source": []
  }
 ],
 "metadata": {
  "kernelspec": {
   "display_name": "Python 3 (ipykernel)",
   "language": "python",
   "name": "python3"
  },
  "language_info": {
   "codemirror_mode": {
    "name": "ipython",
    "version": 3
   },
   "file_extension": ".py",
   "mimetype": "text/x-python",
   "name": "python",
   "nbconvert_exporter": "python",
   "pygments_lexer": "ipython3",
   "version": "3.10.10"
  }
 },
 "nbformat": 4,
 "nbformat_minor": 4
}
