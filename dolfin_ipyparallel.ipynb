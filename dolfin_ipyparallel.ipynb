{
 "cells": [
  {
   "cell_type": "code",
   "execution_count": 1,
   "metadata": {},
   "outputs": [
    {
     "name": "stdout",
     "output_type": "stream",
     "text": [
      "Starting 1 engines with <class 'ipyparallel.cluster.launcher.MPIEngineSetLauncher'>\n"
     ]
    },
    {
     "data": {
      "application/vnd.jupyter.widget-view+json": {
       "model_id": "6bfb9040667d4c7ea78a2293b94a4e4a",
       "version_major": 2,
       "version_minor": 0
      },
      "text/plain": [
       "  0%|          | 0/1 [00:00<?, ?engine/s]"
      ]
     },
     "metadata": {},
     "output_type": "display_data"
    }
   ],
   "source": [
    "import ipyparallel as ipp\n",
    "cluster = ipp.Cluster(n=1, engines=\"mpi\")\n",
    "rc = cluster.start_and_connect_sync(activate=True)"
   ]
  },
  {
   "cell_type": "code",
   "execution_count": 2,
   "metadata": {},
   "outputs": [],
   "source": [
    "def apply_imports(cluster):\n",
    "    with cluster[:].sync_imports():\n",
    "        import dolfinx\n",
    "        from mpi4py import MPI\n",
    "        import time\n",
    "        import ufl\n",
    "        import numpy\n"
   ]
  },
  {
   "cell_type": "code",
   "execution_count": 3,
   "metadata": {},
   "outputs": [],
   "source": [
    "def solve_poisson(N):\n",
    "    start = time.perf_counter()\n",
    "    mesh = dolfinx.mesh.create_unit_square(MPI.COMM_WORLD, N, N)\n",
    "    V = dolfinx.fem.FunctionSpace(mesh, (\"Lagrange\", 1))\n",
    "    u = ufl.TrialFunction(V)\n",
    "    v = ufl.TestFunction(V)\n",
    "    a = ufl.inner(ufl.grad(u), ufl.grad(v)) * ufl.dx   \n",
    "    x = ufl.SpatialCoordinate(mesh)\n",
    "    f = ufl.cos(2*ufl.pi*x[0])\n",
    "    L = ufl.inner(f, v) * ufl.dx\n",
    "    mesh.topology.create_connectivity(mesh.topology.dim-1, mesh.topology.dim)\n",
    "    bndry_facets = dolfinx.mesh.exterior_facet_indices(mesh.topology)\n",
    "    bndry_dofs = dolfinx.fem.locate_dofs_topological(V, mesh.topology.dim-1, bndry_facets)\n",
    "    bc = [dolfinx.fem.dirichletbc(numpy.float64(0), bndry_dofs, V)]\n",
    "    petsc_options = {\"ksp_type\":\"cg\",\n",
    "                     \"pc_type\": \"hypre\",\n",
    "                     \"pc_hypre_type\": \"boomeramg\"}\n",
    "    problem = dolfinx.fem.petsc.LinearProblem(a, L,bc, petsc_options=petsc_options)\n",
    "    uh = problem.solve()\n",
    "    end = time.perf_counter()\n",
    "    local_cntr = dolfinx.fem.assemble_scalar(dolfinx.fem.form(uh*uh*ufl.dx))\n",
    "    global_cntr = mesh.comm.reduce(local_cntr, op=MPI.SUM, root=0)\n",
    "    if mesh.comm.rank == 0:\n",
    "        print(\"u^2: \", global_cntr)\n",
    "    return end-start\n"
   ]
  },
  {
   "cell_type": "code",
   "execution_count": 4,
   "metadata": {},
   "outputs": [
    {
     "name": "stdout",
     "output_type": "stream",
     "text": [
      "importing dolfinx on engine(s)\n",
      "importing MPI from mpi4py on engine(s)\n",
      "importing time on engine(s)\n",
      "importing ufl on engine(s)\n",
      "importing numpy on engine(s)\n"
     ]
    }
   ],
   "source": [
    "apply_imports(rc)"
   ]
  },
  {
   "cell_type": "code",
   "execution_count": 5,
   "metadata": {},
   "outputs": [
    {
     "name": "stdout",
     "output_type": "stream",
     "text": [
      "['']\n",
      "Stopping engine(s): 1681659092\n"
     ]
    },
    {
     "name": "stderr",
     "output_type": "stream",
     "text": [
      "INFO:ipyparallel.cluster.cluster.1681659091-3qc1:Stopping engine(s): 1681659092\n"
     ]
    },
    {
     "name": "stdout",
     "output_type": "stream",
     "text": [
      "engine set stopped 1681659092: {'exit_code': 59, 'pid': 22653, 'identifier': 'ipengine-1681659091-3qc1-1681659092-22571'}\n"
     ]
    },
    {
     "name": "stderr",
     "output_type": "stream",
     "text": [
      "WARNING:ipyparallel.cluster.cluster.1681659091-3qc1:engine set stopped 1681659092: {'exit_code': 59, 'pid': 22653, 'identifier': 'ipengine-1681659091-3qc1-1681659092-22571'}\n"
     ]
    }
   ],
   "source": [
    "result_serial = rc[:].apply_async(solve_poisson, 300)\n",
    "result_serial.wait()\n",
    "print(result_serial.stdout)\n",
    "await cluster.stop_engines()"
   ]
  },
  {
   "cell_type": "code",
   "execution_count": 6,
   "metadata": {},
   "outputs": [
    {
     "name": "stdout",
     "output_type": "stream",
     "text": [
      "Starting 1 engines with <class 'ipyparallel.cluster.launcher.MPIEngineSetLauncher'>\n"
     ]
    },
    {
     "name": "stderr",
     "output_type": "stream",
     "text": [
      "INFO:ipyparallel.cluster.cluster.1681659102-lv28:Starting 1 engines with <class 'ipyparallel.cluster.launcher.MPIEngineSetLauncher'>\n"
     ]
    },
    {
     "data": {
      "application/vnd.jupyter.widget-view+json": {
       "model_id": "2a51fd502bd546cbb3124cb5a9bbebc8",
       "version_major": 2,
       "version_minor": 0
      },
      "text/plain": [
       "  0%|          | 0/1 [00:00<?, ?engine/s]"
      ]
     },
     "metadata": {},
     "output_type": "display_data"
    },
    {
     "name": "stdout",
     "output_type": "stream",
     "text": [
      "importing dolfinx on engine(s)\n",
      "importing MPI from mpi4py on engine(s)\n",
      "importing time on engine(s)\n",
      "importing ufl on engine(s)\n",
      "importing numpy on engine(s)\n",
      "0.9997380390004764 ['']\n",
      "Stopping engine(s): 1681659103\n"
     ]
    },
    {
     "name": "stderr",
     "output_type": "stream",
     "text": [
      "INFO:ipyparallel.cluster.cluster.1681659102-lv28:Stopping engine(s): 1681659103\n"
     ]
    },
    {
     "name": "stdout",
     "output_type": "stream",
     "text": [
      "Failed to remove /root/.ipython/profile_default/log/ipengine-1681659102-lv28-1681659103-22571.log: [Errno 2] No such file or directory: '/root/.ipython/profile_default/log/ipengine-1681659102-lv28-1681659103-22571.log'\n"
     ]
    },
    {
     "name": "stderr",
     "output_type": "stream",
     "text": [
      "ERROR:ipyparallel.cluster.cluster.1681659102-lv28:Failed to remove /root/.ipython/profile_default/log/ipengine-1681659102-lv28-1681659103-22571.log: [Errno 2] No such file or directory: '/root/.ipython/profile_default/log/ipengine-1681659102-lv28-1681659103-22571.log'\n"
     ]
    },
    {
     "name": "stdout",
     "output_type": "stream",
     "text": [
      "engine set stopped 1681659103: {'exit_code': 0, 'pid': 22815, 'identifier': 'ipengine-1681659102-lv28-1681659103-22571'}\n"
     ]
    },
    {
     "name": "stderr",
     "output_type": "stream",
     "text": [
      "INFO:ipyparallel.cluster.cluster.1681659102-lv28:engine set stopped 1681659103: {'exit_code': 0, 'pid': 22815, 'identifier': 'ipengine-1681659102-lv28-1681659103-22571'}\n"
     ]
    },
    {
     "name": "stdout",
     "output_type": "stream",
     "text": [
      "Starting 2 engines with <class 'ipyparallel.cluster.launcher.MPIEngineSetLauncher'>\n"
     ]
    },
    {
     "name": "stderr",
     "output_type": "stream",
     "text": [
      "INFO:ipyparallel.cluster.cluster.1681659110-t2rd:Starting 2 engines with <class 'ipyparallel.cluster.launcher.MPIEngineSetLauncher'>\n"
     ]
    },
    {
     "data": {
      "application/vnd.jupyter.widget-view+json": {
       "model_id": "36e9cee098534731a636030a0537338c",
       "version_major": 2,
       "version_minor": 0
      },
      "text/plain": [
       "  0%|          | 0/2 [00:00<?, ?engine/s]"
      ]
     },
     "metadata": {},
     "output_type": "display_data"
    },
    {
     "name": "stdout",
     "output_type": "stream",
     "text": [
      "importing dolfinx on engine(s)\n",
      "importing MPI from mpi4py on engine(s)\n",
      "importing time on engine(s)\n",
      "importing ufl on engine(s)\n",
      "importing numpy on engine(s)\n",
      "0.9467570429997068 ['', '']\n",
      "Stopping engine(s): 1681659111\n"
     ]
    },
    {
     "name": "stderr",
     "output_type": "stream",
     "text": [
      "INFO:ipyparallel.cluster.cluster.1681659110-t2rd:Stopping engine(s): 1681659111\n"
     ]
    },
    {
     "name": "stdout",
     "output_type": "stream",
     "text": [
      "Failed to remove /root/.ipython/profile_default/log/ipengine-1681659110-t2rd-1681659111-22571.log: [Errno 2] No such file or directory: '/root/.ipython/profile_default/log/ipengine-1681659110-t2rd-1681659111-22571.log'\n"
     ]
    },
    {
     "name": "stderr",
     "output_type": "stream",
     "text": [
      "ERROR:ipyparallel.cluster.cluster.1681659110-t2rd:Failed to remove /root/.ipython/profile_default/log/ipengine-1681659110-t2rd-1681659111-22571.log: [Errno 2] No such file or directory: '/root/.ipython/profile_default/log/ipengine-1681659110-t2rd-1681659111-22571.log'\n"
     ]
    },
    {
     "name": "stdout",
     "output_type": "stream",
     "text": [
      "mpiexec error output:\n",
      "===================================================================================\n",
      "=   BAD TERMINATION OF ONE OF YOUR APPLICATION PROCESSES\n",
      "=   PID 22953 RUNNING AT c423b0c556db\n",
      "=   EXIT CODE: 139\n",
      "=   CLEANING UP REMAINING PROCESSES\n",
      "=   YOU CAN IGNORE THE BELOW CLEANUP MESSAGES\n",
      "===================================================================================\n",
      "YOUR APPLICATION TERMINATED WITH THE EXIT STRING: Segmentation fault (signal 11)\n",
      "\n"
     ]
    },
    {
     "name": "stderr",
     "output_type": "stream",
     "text": [
      "WARNING:ipyparallel.cluster.cluster.1681659110-t2rd:mpiexec error output:\n",
      "===================================================================================\n",
      "=   BAD TERMINATION OF ONE OF YOUR APPLICATION PROCESSES\n",
      "=   PID 22953 RUNNING AT c423b0c556db\n",
      "=   EXIT CODE: 139\n",
      "=   CLEANING UP REMAINING PROCESSES\n",
      "=   YOU CAN IGNORE THE BELOW CLEANUP MESSAGES\n",
      "===================================================================================\n",
      "YOUR APPLICATION TERMINATED WITH THE EXIT STRING: Segmentation fault (signal 11)\n",
      "\n"
     ]
    },
    {
     "name": "stdout",
     "output_type": "stream",
     "text": [
      "engine set stopped 1681659111: {'exit_code': 139, 'pid': 22950, 'identifier': 'ipengine-1681659110-t2rd-1681659111-22571'}\n"
     ]
    },
    {
     "name": "stderr",
     "output_type": "stream",
     "text": [
      "WARNING:ipyparallel.cluster.cluster.1681659110-t2rd:engine set stopped 1681659111: {'exit_code': 139, 'pid': 22950, 'identifier': 'ipengine-1681659110-t2rd-1681659111-22571'}\n"
     ]
    },
    {
     "name": "stdout",
     "output_type": "stream",
     "text": [
      "Starting 4 engines with <class 'ipyparallel.cluster.launcher.MPIEngineSetLauncher'>\n"
     ]
    },
    {
     "name": "stderr",
     "output_type": "stream",
     "text": [
      "INFO:ipyparallel.cluster.cluster.1681659119-5zpj:Starting 4 engines with <class 'ipyparallel.cluster.launcher.MPIEngineSetLauncher'>\n"
     ]
    },
    {
     "data": {
      "application/vnd.jupyter.widget-view+json": {
       "model_id": "0a6bd89233374bc4812b4e8e1d36b6db",
       "version_major": 2,
       "version_minor": 0
      },
      "text/plain": [
       "  0%|          | 0/4 [00:00<?, ?engine/s]"
      ]
     },
     "metadata": {},
     "output_type": "display_data"
    },
    {
     "name": "stdout",
     "output_type": "stream",
     "text": [
      "importing dolfinx on engine(s)\n",
      "importing MPI from mpi4py on engine(s)\n",
      "importing time on engine(s)\n",
      "importing ufl on engine(s)\n",
      "importing numpy on engine(s)\n",
      "2.003656979499965 ['', '', '', '']\n",
      "Stopping engine(s): 1681659120\n"
     ]
    },
    {
     "name": "stderr",
     "output_type": "stream",
     "text": [
      "INFO:ipyparallel.cluster.cluster.1681659119-5zpj:Stopping engine(s): 1681659120\n"
     ]
    },
    {
     "name": "stdout",
     "output_type": "stream",
     "text": [
      "mpiexec error output:\n",
      "===================================================================================\n",
      "=   BAD TERMINATION OF ONE OF YOUR APPLICATION PROCESSES\n",
      "=   PID 23119 RUNNING AT c423b0c556db\n",
      "=   EXIT CODE: 139\n",
      "=   CLEANING UP REMAINING PROCESSES\n",
      "=   YOU CAN IGNORE THE BELOW CLEANUP MESSAGES\n",
      "===================================================================================\n",
      "YOUR APPLICATION TERMINATED WITH THE EXIT STRING: Segmentation fault (signal 11)\n",
      "\n"
     ]
    },
    {
     "name": "stderr",
     "output_type": "stream",
     "text": [
      "WARNING:ipyparallel.cluster.cluster.1681659119-5zpj:mpiexec error output:\n",
      "===================================================================================\n",
      "=   BAD TERMINATION OF ONE OF YOUR APPLICATION PROCESSES\n",
      "=   PID 23119 RUNNING AT c423b0c556db\n",
      "=   EXIT CODE: 139\n",
      "=   CLEANING UP REMAINING PROCESSES\n",
      "=   YOU CAN IGNORE THE BELOW CLEANUP MESSAGES\n",
      "===================================================================================\n",
      "YOUR APPLICATION TERMINATED WITH THE EXIT STRING: Segmentation fault (signal 11)\n",
      "\n"
     ]
    },
    {
     "name": "stdout",
     "output_type": "stream",
     "text": [
      "Failed to remove /root/.ipython/profile_default/log/ipengine-1681659119-5zpj-1681659120-22571.log: [Errno 2] No such file or directory: '/root/.ipython/profile_default/log/ipengine-1681659119-5zpj-1681659120-22571.log'\n"
     ]
    },
    {
     "name": "stderr",
     "output_type": "stream",
     "text": [
      "ERROR:ipyparallel.cluster.cluster.1681659119-5zpj:Failed to remove /root/.ipython/profile_default/log/ipengine-1681659119-5zpj-1681659120-22571.log: [Errno 2] No such file or directory: '/root/.ipython/profile_default/log/ipengine-1681659119-5zpj-1681659120-22571.log'\n"
     ]
    },
    {
     "name": "stdout",
     "output_type": "stream",
     "text": [
      "engine set stopped 1681659120: {'exit_code': 139, 'pid': 23116, 'identifier': 'ipengine-1681659119-5zpj-1681659120-22571'}\n"
     ]
    },
    {
     "name": "stderr",
     "output_type": "stream",
     "text": [
      "WARNING:ipyparallel.cluster.cluster.1681659119-5zpj:engine set stopped 1681659120: {'exit_code': 139, 'pid': 23116, 'identifier': 'ipengine-1681659119-5zpj-1681659120-22571'}\n"
     ]
    },
    {
     "name": "stdout",
     "output_type": "stream",
     "text": [
      "Starting 6 engines with <class 'ipyparallel.cluster.launcher.MPIEngineSetLauncher'>\n"
     ]
    },
    {
     "name": "stderr",
     "output_type": "stream",
     "text": [
      "INFO:ipyparallel.cluster.cluster.1681659129-r75p:Starting 6 engines with <class 'ipyparallel.cluster.launcher.MPIEngineSetLauncher'>\n"
     ]
    },
    {
     "data": {
      "application/vnd.jupyter.widget-view+json": {
       "model_id": "1710e6fe9f1443edaab6ad462127f702",
       "version_major": 2,
       "version_minor": 0
      },
      "text/plain": [
       "  0%|          | 0/6 [00:00<?, ?engine/s]"
      ]
     },
     "metadata": {},
     "output_type": "display_data"
    },
    {
     "name": "stdout",
     "output_type": "stream",
     "text": [
      "importing dolfinx on engine(s)\n",
      "importing MPI from mpi4py on engine(s)\n",
      "importing time on engine(s)\n",
      "importing ufl on engine(s)\n",
      "importing numpy on engine(s)\n",
      "3.0567922186666387 ['', '', '', '', '', '']\n",
      "Stopping engine(s): 1681659130\n"
     ]
    },
    {
     "name": "stderr",
     "output_type": "stream",
     "text": [
      "INFO:ipyparallel.cluster.cluster.1681659129-r75p:Stopping engine(s): 1681659130\n"
     ]
    },
    {
     "name": "stdout",
     "output_type": "stream",
     "text": [
      "Failed to remove /root/.ipython/profile_default/log/ipengine-1681659129-r75p-1681659130-22571.log: [Errno 2] No such file or directory: '/root/.ipython/profile_default/log/ipengine-1681659129-r75p-1681659130-22571.log'\n"
     ]
    },
    {
     "name": "stderr",
     "output_type": "stream",
     "text": [
      "ERROR:ipyparallel.cluster.cluster.1681659129-r75p:Failed to remove /root/.ipython/profile_default/log/ipengine-1681659129-r75p-1681659130-22571.log: [Errno 2] No such file or directory: '/root/.ipython/profile_default/log/ipengine-1681659129-r75p-1681659130-22571.log'\n"
     ]
    },
    {
     "name": "stdout",
     "output_type": "stream",
     "text": [
      "mpiexec error output:\n",
      "===================================================================================\n",
      "=   BAD TERMINATION OF ONE OF YOUR APPLICATION PROCESSES\n",
      "=   PID 23356 RUNNING AT c423b0c556db\n",
      "=   EXIT CODE: 9\n",
      "=   CLEANING UP REMAINING PROCESSES\n",
      "=   YOU CAN IGNORE THE BELOW CLEANUP MESSAGES\n",
      "===================================================================================\n",
      "YOUR APPLICATION TERMINATED WITH THE EXIT STRING: Segmentation fault (signal 11)\n",
      "\n"
     ]
    },
    {
     "name": "stderr",
     "output_type": "stream",
     "text": [
      "WARNING:ipyparallel.cluster.cluster.1681659129-r75p:mpiexec error output:\n",
      "===================================================================================\n",
      "=   BAD TERMINATION OF ONE OF YOUR APPLICATION PROCESSES\n",
      "=   PID 23356 RUNNING AT c423b0c556db\n",
      "=   EXIT CODE: 9\n",
      "=   CLEANING UP REMAINING PROCESSES\n",
      "=   YOU CAN IGNORE THE BELOW CLEANUP MESSAGES\n",
      "===================================================================================\n",
      "YOUR APPLICATION TERMINATED WITH THE EXIT STRING: Segmentation fault (signal 11)\n",
      "\n"
     ]
    },
    {
     "name": "stdout",
     "output_type": "stream",
     "text": [
      "engine set stopped 1681659130: {'exit_code': 139, 'pid': 23353, 'identifier': 'ipengine-1681659129-r75p-1681659130-22571'}\n"
     ]
    },
    {
     "name": "stderr",
     "output_type": "stream",
     "text": [
      "WARNING:ipyparallel.cluster.cluster.1681659129-r75p:engine set stopped 1681659130: {'exit_code': 139, 'pid': 23353, 'identifier': 'ipengine-1681659129-r75p-1681659130-22571'}\n"
     ]
    }
   ],
   "source": [
    "import numpy\n",
    "mpi_processes = [1,2,4,6]\n",
    "runtimes = numpy.zeros(len(mpi_processes))\n",
    "for i, processes in enumerate(mpi_processes):\n",
    "    cluster = ipp.Cluster(n=processes, engines=\"mpi\")\n",
    "    rc = cluster.start_and_connect_sync(activate=True)\n",
    "    apply_imports(rc)\n",
    "    process_runtimes = rc[:].apply_async(solve_poisson, 300)\n",
    "    process_runtimes.wait()\n",
    "    runtimes[i] = numpy.sum(process_runtimes.get())/len(process_runtimes.get()  )\n",
    "    print(runtimes[i], process_runtimes.stdout)\n",
    "    await cluster.stop_engines()"
   ]
  },
  {
   "cell_type": "code",
   "execution_count": 7,
   "metadata": {},
   "outputs": [
    {
     "data": {
      "image/png": "[encoded data removed]",
      "text/plain": [
       "<Figure size 640x480 with 1 Axes>"
      ]
     },
     "metadata": {},
     "output_type": "display_data"
    }
   ],
   "source": [
    "import matplotlib.pyplot as plt\n",
    "plt.plot(mpi_processes, runtimes)\n",
    "plt.grid()"
   ]
  },
  {
   "cell_type": "code",
   "execution_count": null,
   "metadata": {},
   "outputs": [],
   "source": []
  }
 ],
 "metadata": {
  "kernelspec": {
   "display_name": "mpi-tutorial",
   "language": "python",
   "name": "python3"
  },
  "language_info": {
   "codemirror_mode": {
    "name": "ipython",
    "version": 3
   },
   "file_extension": ".py",
   "mimetype": "text/x-python",
   "name": "python",
   "nbconvert_exporter": "python",
   "pygments_lexer": "ipython3",
   "version": "3.10.10"
  },
  "orig_nbformat": 4
 },
 "nbformat": 4,
 "nbformat_minor": 2
}
