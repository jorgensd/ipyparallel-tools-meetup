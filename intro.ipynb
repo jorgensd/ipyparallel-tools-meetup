{
 "cells": [
  {
   "cell_type": "markdown",
   "id": "b8cc5b46-8928-43aa-9f74-7541fab4956f",
   "metadata": {
    "tags": []
   },
   "source": [
    "We create and start an IPython parallel cluster"
   ]
  },
  {
   "cell_type": "code",
   "execution_count": 1,
   "id": "c7085f0c-2cba-4b53-b69b-7d189bc75908",
   "metadata": {
    "tags": []
   },
   "outputs": [
    {
     "name": "stdout",
     "output_type": "stream",
     "text": [
      "Starting 4 engines with <class 'ipyparallel.cluster.launcher.MPIEngineSetLauncher'>\n"
     ]
    },
    {
     "data": {
      "application/vnd.jupyter.widget-view+json": {
       "model_id": "22a63313ae694d70a545b360d9ae5133",
       "version_major": 2,
       "version_minor": 0
      },
      "text/plain": [
       "  0%|          | 0/4 [00:00<?, ?engine/s]"
      ]
     },
     "metadata": {},
     "output_type": "display_data"
    }
   ],
   "source": [
    "import ipyparallel as ipp\n",
    "cluster = ipp.Cluster(n=4, engines=\"mpi\")\n",
    "rc = await cluster.start_and_connect(activate=True)"
   ]
  },
  {
   "cell_type": "markdown",
   "id": "ae3b0475-50d8-4d08-95a0-d3421d8d086d",
   "metadata": {},
   "source": [
    "What does it mean starting a cluster?"
   ]
  },
  {
   "cell_type": "code",
   "execution_count": 2,
   "id": "a5144ab0-c386-494d-a729-26e4002f0220",
   "metadata": {
    "tags": []
   },
   "outputs": [
    {
     "data": {
      "text/plain": [
       "['mpiexec',\n",
       " '-n',\n",
       " '4',\n",
       " '/home/dokken/miniconda3/envs/mpi-tutorial/bin/python',\n",
       " '-m',\n",
       " 'ipyparallel.engine',\n",
       " '--mpi']"
      ]
     },
     "execution_count": 2,
     "metadata": {},
     "output_type": "execute_result"
    }
   ],
   "source": [
    "cluster.engine_set.args"
   ]
  },
  {
   "attachments": {},
   "cell_type": "markdown",
   "id": "d7112c2f",
   "metadata": {},
   "source": [
    "This means that we have `4` asynchronous processes, which means that we can return to working on a single process prior to the other processes finishing. For instance, we can make the following simple code"
   ]
  },
  {
   "cell_type": "code",
   "execution_count": 36,
   "id": "41c2ba16",
   "metadata": {},
   "outputs": [],
   "source": [
    "def hello(wait_time: float):\n",
    "    from mpi4py import MPI\n",
    "    import os\n",
    "    import time\n",
    "    rank = MPI.COMM_WORLD.rank\n",
    "    pid = os.getpid()\n",
    "    print(f\"Hello I am process {rank} with Unix ID {pid}\")\n",
    "    if rank == 0:\n",
    "        time.sleep(wait_time)\n",
    "    return (rank, pid)"
   ]
  },
  {
   "attachments": {},
   "cell_type": "markdown",
   "id": "8d45818a-ab30-48a0-adec-f4ca1b075b56",
   "metadata": {},
   "source": [
    "We next execute this on the different processes."
   ]
  },
  {
   "cell_type": "code",
   "execution_count": 37,
   "id": "861b7dee",
   "metadata": {},
   "outputs": [
    {
     "name": "stdout",
     "output_type": "stream",
     "text": [
      "Result computed for all procs: False\n",
      "Time to send function to processes 2.80e-03s\n",
      "Time for all to finish 1.01s\n"
     ]
    }
   ],
   "source": [
    "import time\n",
    "process_view = rc[:]\n",
    "wait_time = 1\n",
    "start = time.perf_counter()\n",
    "result = process_view.apply_async(hello, wait_time)\n",
    "sent = time.perf_counter()\n",
    "print(f\"Result computed for all procs: {result.ready()}\")\n",
    "result.wait()\n",
    "end = time.perf_counter()\n",
    "print(f\"Time to send function to processes {sent - start:.2e}s\")\n",
    "print(f\"Time for all to finish {end-sent:.2f}s\")"
   ]
  },
  {
   "attachments": {},
   "cell_type": "markdown",
   "id": "52a300cf",
   "metadata": {},
   "source": [
    "We can also do this in a synchronous way"
   ]
  },
  {
   "cell_type": "code",
   "execution_count": 38,
   "id": "7d7e56a7",
   "metadata": {},
   "outputs": [
    {
     "name": "stdout",
     "output_type": "stream",
     "text": [
      "Time for all to finish 1.0128639069998826\n",
      "[(0, 32742), (1, 32743), (2, 32744), (3, 32745)]\n"
     ]
    }
   ],
   "source": [
    "start_sync = time.perf_counter()\n",
    "sync_result = process_view.apply_sync(hello, wait_time)\n",
    "end_sync = time.perf_counter()\n",
    "print(f\"Time for all to finish {end_sync-start_sync}\")\n",
    "assert result.get() == sync_result\n",
    "print(sync_result)"
   ]
  },
  {
   "attachments": {},
   "cell_type": "markdown",
   "id": "b22a8c8c",
   "metadata": {},
   "source": [
    "We could also work on a subset of the processes we have started"
   ]
  },
  {
   "cell_type": "code",
   "execution_count": 40,
   "id": "d3eb0137",
   "metadata": {},
   "outputs": [
    {
     "name": "stdout",
     "output_type": "stream",
     "text": [
      "Result computed for all procs: False\n",
      "Runtime for subset to finish operation 0.018454205000125512 [(2, 32744), (3, 32745)]\n"
     ]
    }
   ],
   "source": [
    "p2and3 = rc[2, 3]\n",
    "start = time.perf_counter()\n",
    "result2and3 = p2and3.apply_async(hello, wait_time)\n",
    "sent = time.perf_counter()\n",
    "print(f\"Result computed for all procs: {result2and3.ready()}\")\n",
    "result2and3.wait()\n",
    "end = time.perf_counter()\n",
    "print(\n",
    "    f\"Runtime for subset to finish operation {end-start} {result2and3.get()}\")"
   ]
  },
  {
   "cell_type": "code",
   "execution_count": null,
   "id": "bab0109d",
   "metadata": {},
   "outputs": [],
   "source": []
  }
 ],
 "metadata": {
  "kernelspec": {
   "display_name": "Python 3 (ipykernel)",
   "language": "python",
   "name": "python3"
  },
  "language_info": {
   "codemirror_mode": {
    "name": "ipython",
    "version": 3
   },
   "file_extension": ".py",
   "mimetype": "text/x-python",
   "name": "python",
   "nbconvert_exporter": "python",
   "pygments_lexer": "ipython3",
   "version": "3.11.3"
  }
 },
 "nbformat": 4,
 "nbformat_minor": 5
}
